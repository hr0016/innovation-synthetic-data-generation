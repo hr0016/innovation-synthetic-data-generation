{
 "cells": [
  {
   "cell_type": "code",
   "execution_count": 2,
   "id": "215a0323",
   "metadata": {},
   "outputs": [],
   "source": [
    "import numpy as np\n",
    "import pandas as pd\n",
    "import matplotlib.pyplot as plt\n",
    "import datetime\n",
    "from datetime import datetime as dt\n",
    "import io, os, json, pickle, gzip\n",
    "import re, pyarrow, boto3"
   ]
  },
  {
   "cell_type": "code",
   "execution_count": 7,
   "id": "d182d0ea",
   "metadata": {},
   "outputs": [],
   "source": [
    "from sklearn.metrics import mean_absolute_percentage_error as mape, mean_squared_error as mse\n",
    "#from sklearn.model_selection import cross_val_score as cv\n",
    "def wmape(actual, pred):\n",
    "    wmape=sum(abs(actual-pred))/sum(actual)\n",
    "    return wmape"
   ]
  },
  {
   "cell_type": "markdown",
   "id": "694d7fd3",
   "metadata": {},
   "source": [
    "# from here if model not exist"
   ]
  },
  {
   "cell_type": "code",
   "execution_count": 9,
   "id": "c6b5bad7",
   "metadata": {},
   "outputs": [],
   "source": [
    "# load training data locally\n",
    "def load_eac_table(data_file):  \n",
    "    s3 = boto3.resource('s3')  \n",
    "    bucket = s3.Bucket('innovation-dev-athena-results')\n",
    "    prefix_objs = bucket.objects.filter(Prefix='tables/'+data_file)\n",
    "    df = []\n",
    "    for obj in prefix_objs:\n",
    "        body = obj.get()['Body'].read()\n",
    "        temp = pd.read_parquet(io.BytesIO(body))\n",
    "        df.append(temp)\n",
    "    df_total = pd.concat(df)\n",
    "    df_total.reset_index(drop=True, inplace=True)\n",
    "    return df_total"
   ]
  },
  {
   "cell_type": "code",
   "execution_count": 12,
   "id": "14966daa",
   "metadata": {},
   "outputs": [],
   "source": [
    "df_sample_train = load_eac_table('sample training data/d88cc9bd-97a6-44f8-a36b-4e2b0ae48f17/')\n",
    "df_sample_test = load_eac_table('sample training data/917e6ae0-d77e-4edf-816c-b651c26a6783/')"
   ]
  },
  {
   "cell_type": "code",
   "execution_count": 14,
   "id": "cb3cbad1",
   "metadata": {},
   "outputs": [],
   "source": [
    "df_train_x, df_train_y = df_sample_train.loc[:, ['sum_dpc', 'cal_aa', 'previous_eac']].astype('float'), df_sample_train.loc[:,'current_eac'].astype('float')\n",
    "df_test_x, df_test_y = df_sample_test.loc[:, ['sum_dpc', 'cal_aa', 'previous_eac']].astype('float'), df_sample_test.loc[:,'current_eac'].astype('float')"
   ]
  },
  {
   "cell_type": "code",
   "execution_count": null,
   "id": "af8dcff3",
   "metadata": {},
   "outputs": [],
   "source": [
    "del df_sample_train, df_sample_test"
   ]
  },
  {
   "cell_type": "code",
   "execution_count": 17,
   "id": "75c9df15",
   "metadata": {},
   "outputs": [],
   "source": [
    "from xgboost import XGBRegressor\n",
    "\n",
    "def xgb(train_x, train_y):\n",
    "    model = XGBRegressor(n_estimators=200, max_depth=5, eval_metric=mape)\n",
    "    model.fit(train_x, train_y)\n",
    "    return model  \n"
   ]
  },
  {
   "cell_type": "code",
   "execution_count": 8,
   "id": "ce3219e9",
   "metadata": {},
   "outputs": [],
   "source": [
    "xgb_model = xgb(df_train_x, df_train_y)"
   ]
  },
  {
   "cell_type": "code",
   "execution_count": 32,
   "id": "8ad34f8e",
   "metadata": {},
   "outputs": [],
   "source": [
    "del df_train_x, df_train_y, df_test_x, df_test_y"
   ]
  },
  {
   "cell_type": "markdown",
   "id": "2139b387",
   "metadata": {},
   "source": [
    "# from here if model exists"
   ]
  },
  {
   "cell_type": "code",
   "execution_count": 3,
   "id": "c0c670c8",
   "metadata": {},
   "outputs": [],
   "source": [
    "#pickle.dump(xgb_model, open('model.pkl', 'wb'))\n",
    "xgb_model = pickle.load(open('model.pkl', 'rb'))"
   ]
  },
  {
   "cell_type": "code",
   "execution_count": null,
   "id": "54ae40a4",
   "metadata": {},
   "outputs": [],
   "source": [
    "\"\"\"\n",
    "xgb_pred = xgb_model.predict(df_train_x)\n",
    "score_xgb = cv(xgb_model, df_train_x, df_train_y, cv=5)  \n",
    "mse_xgb =  mse(xgb_pred, df_train_y)\n",
    "mape_xgb =  mape(xgb_pred, df_train_y)\n",
    "wmape_xgb = wmape(xgb_pred, df_train_y)\n",
    "print(\"XGB training MSE: {}, training MAPE: {}, training WMAPE: {} \\n\".format(mse_xgb,mape_xgb,wmape_xgb))\n",
    "print(\"Validation scores for XGB: {} \\n\".format(score_xgb))\n",
    "\"\"\""
   ]
  },
  {
   "cell_type": "code",
   "execution_count": 10,
   "id": "2efaa68b",
   "metadata": {},
   "outputs": [
    {
     "name": "stdout",
     "output_type": "stream",
     "text": [
      "XGB testing MSE: 7488078.878932534, testing1 MAPE: 0.052439136250737914, testing1 WMAPE: 0.0595960765010869 \n",
      "\n"
     ]
    }
   ],
   "source": [
    "\"\"\"\n",
    "xgb_pred_test = xgb_model.predict(df_test_x)\n",
    "mse_xgb_test = mse(xgb_pred_test, df_test_y)\n",
    "mape_xgb_test = mape(xgb_pred_test, df_test_y)\n",
    "wmape_xgb_test = wmape(xgb_pred_test, df_test_y)\n",
    "print(\"XGB testing MSE: {}, testing1 MAPE: {}, testing1 WMAPE: {} \\n\".format(mse_xgb_test,mape_xgb_test,wmape_xgb_test))\n",
    "\"\"\""
   ]
  },
  {
   "cell_type": "code",
   "execution_count": 14,
   "id": "570fa889",
   "metadata": {},
   "outputs": [
    {
     "name": "stderr",
     "output_type": "stream",
     "text": [
      "/home/ec2-user/anaconda3/envs/pytorch_p39/lib/python3.9/site-packages/xgboost/sklearn.py:761: UserWarning: eval_metric is not saved in Scikit-Learn meta.\n",
      "  warnings.warn(\n"
     ]
    },
    {
     "name": "stdout",
     "output_type": "stream",
     "text": [
      "XGBoost-regression-model\r\n"
     ]
    }
   ],
   "source": [
    "\"\"\"\n",
    "model_file_name = \"XGBoost-regression-model\"\n",
    "xgb_model.save_model(model_file_name)\n",
    "!tar czvf model.tar.gz $model_file_name\n",
    "\"\"\""
   ]
  },
  {
   "cell_type": "code",
   "execution_count": 4,
   "id": "ce08a614",
   "metadata": {},
   "outputs": [],
   "source": [
    "#batch = pd.read_parquet('s3://innovation-dev-athena-results/tables/all-batches/27e0f1ea-03b6-44ae-93d7-2a81d4522cab/')\n",
    "#batch = pd.read_parquet('s3://innovation-dev-athena-results/tables/all-batches/2d86dd65-bbbf-4bdb-a530-665e5e678f1c/')\n",
    "#batch = pd.read_parquet('s3://innovation-dev-athena-results/tables/all-batches/352a44b6-d94e-4a38-8fcf-d78d9921acb7/')\n",
    "#batch = pd.read_parquet('s3://innovation-dev-athena-results/tables/all-batches/3ca8402d-8e96-4c86-aeed-6a9be1aa9982/')\n",
    "#batch = pd.read_parquet('s3://innovation-dev-athena-results/tables/all-batches/4b41085a-70df-43d5-9514-2cb973c501b7/')\n",
    "#batch = pd.read_parquet('s3://innovation-dev-athena-results/tables/all-batches/4ccf9688-a60d-446a-a9d1-40c634263325/')\n",
    "#batch = pd.read_parquet('s3://innovation-dev-athena-results/tables/all-batches/5e2f80fc-14e0-40e2-bc03-567dcfa18402/')\n",
    "#batch = pd.read_parquet('s3://innovation-dev-athena-results/tables/all-batches/d9d1ba4b-7057-4e9e-84f1-26b39d283297/')\n",
    "#batch = pd.read_parquet('s3://innovation-dev-athena-results/tables/all-batches/dde75b82-2049-4e60-8700-23f3a248d164/')\n",
    "batch = pd.read_parquet('s3://innovation-dev-athena-results/tables/all-batches/e05f9833-c0f2-4c29-8783-a81bff20a45f/')"
   ]
  },
  {
   "cell_type": "code",
   "execution_count": 5,
   "id": "8c673212",
   "metadata": {},
   "outputs": [],
   "source": [
    "batch_x, batch_y = batch.loc[:, ['sum_dpc', 'cal_aa', 'previous_eac']].astype('float'), batch.loc[:,'current_eac'].astype('float')"
   ]
  },
  {
   "cell_type": "code",
   "execution_count": 8,
   "id": "6f62546e",
   "metadata": {},
   "outputs": [
    {
     "name": "stdout",
     "output_type": "stream",
     "text": [
      "XGB testing MSE: 15380665.2128787, testing MAPE: 0.05202811409285556, testing WMAPE: 0.05911141826790941 \n",
      "\n"
     ]
    }
   ],
   "source": [
    "xgb_batch_pred = xgb_model.predict(batch_x)\n",
    "mse_xgb_batch = mse(xgb_batch_pred, batch_y)\n",
    "mape_xgb_batch = mape(xgb_batch_pred, batch_y)\n",
    "wmape_xgb_batch = wmape(xgb_batch_pred, batch_y)\n",
    "print(\"XGB testing MSE: {}, testing MAPE: {}, testing WMAPE: {} \\n\".format(mse_xgb_batch,mape_xgb_batch,wmape_xgb_batch))"
   ]
  },
  {
   "cell_type": "code",
   "execution_count": 9,
   "id": "6b1ff9da",
   "metadata": {},
   "outputs": [
    {
     "data": {
      "text/plain": [
       "array([3632.9138, 5010.4585, 4802.1343, 4760.0205, 3502.5322, 5508.182 ,\n",
       "       5525.8696, 5532.6577, 5720.129 , 5669.4165], dtype=float32)"
      ]
     },
     "execution_count": 9,
     "metadata": {},
     "output_type": "execute_result"
    }
   ],
   "source": [
    "xgb_batch_pred[2300:2310]"
   ]
  },
  {
   "cell_type": "code",
   "execution_count": 10,
   "id": "cffaac1a",
   "metadata": {},
   "outputs": [
    {
     "data": {
      "text/plain": [
       "2300    4983.9\n",
       "2301    4984.0\n",
       "2302    4983.9\n",
       "2303    3897.4\n",
       "2304    3689.9\n",
       "2305    5544.9\n",
       "2306    5531.9\n",
       "2307    5567.5\n",
       "2308    5567.3\n",
       "2309    5690.7\n",
       "Name: current_eac, dtype: float64"
      ]
     },
     "execution_count": 10,
     "metadata": {},
     "output_type": "execute_result"
    }
   ],
   "source": [
    "batch_y[2300:2310]"
   ]
  },
  {
   "cell_type": "markdown",
   "id": "f57da29e",
   "metadata": {},
   "source": [
    "# if need to batch transform and upload to s3"
   ]
  },
  {
   "cell_type": "code",
   "execution_count": 18,
   "id": "c56a1c83",
   "metadata": {},
   "outputs": [],
   "source": [
    "new_batch = pd.concat((batch, pd.DataFrame(xgb_batch_pred, columns = ['cal_eac'])), axis=1)"
   ]
  },
  {
   "cell_type": "code",
   "execution_count": 28,
   "id": "43671b62",
   "metadata": {},
   "outputs": [
    {
     "ename": "NameError",
     "evalue": "name 'batch_x' is not defined",
     "output_type": "error",
     "traceback": [
      "\u001b[0;31m---------------------------------------------------------------------------\u001b[0m",
      "\u001b[0;31mNameError\u001b[0m                                 Traceback (most recent call last)",
      "\u001b[0;32m/tmp/ipykernel_8928/1840410249.py\u001b[0m in \u001b[0;36m<cell line: 1>\u001b[0;34m()\u001b[0m\n\u001b[0;32m----> 1\u001b[0;31m \u001b[0;32mdel\u001b[0m \u001b[0mbatch\u001b[0m\u001b[0;34m,\u001b[0m \u001b[0mbatch_x\u001b[0m\u001b[0;34m,\u001b[0m \u001b[0mbatch_y\u001b[0m\u001b[0;34m,\u001b[0m \u001b[0mxgb_batch_pred\u001b[0m\u001b[0;34m\u001b[0m\u001b[0;34m\u001b[0m\u001b[0m\n\u001b[0m",
      "\u001b[0;31mNameError\u001b[0m: name 'batch_x' is not defined"
     ]
    }
   ],
   "source": [
    "del batch, batch_x, batch_y, xgb_batch_pred"
   ]
  },
  {
   "cell_type": "code",
   "execution_count": 20,
   "id": "aadf3c30",
   "metadata": {},
   "outputs": [
    {
     "data": {
      "text/html": [
       "<div>\n",
       "<style scoped>\n",
       "    .dataframe tbody tr th:only-of-type {\n",
       "        vertical-align: middle;\n",
       "    }\n",
       "\n",
       "    .dataframe tbody tr th {\n",
       "        vertical-align: top;\n",
       "    }\n",
       "\n",
       "    .dataframe thead th {\n",
       "        text-align: right;\n",
       "    }\n",
       "</style>\n",
       "<table border=\"1\" class=\"dataframe\">\n",
       "  <thead>\n",
       "    <tr style=\"text-align: right;\">\n",
       "      <th></th>\n",
       "      <th>rn</th>\n",
       "      <th>mpan</th>\n",
       "      <th>read_date</th>\n",
       "      <th>next_read_date</th>\n",
       "      <th>effective_from_settlement_date</th>\n",
       "      <th>effective_to_settlement_date</th>\n",
       "      <th>sum_dpc</th>\n",
       "      <th>cal_aa</th>\n",
       "      <th>previous_eac</th>\n",
       "      <th>current_eac</th>\n",
       "      <th>cal_eac</th>\n",
       "    </tr>\n",
       "  </thead>\n",
       "  <tbody>\n",
       "    <tr>\n",
       "      <th>0</th>\n",
       "      <td>217978641</td>\n",
       "      <td>4400007407699</td>\n",
       "      <td>2022-05-15</td>\n",
       "      <td>2022-08-15</td>\n",
       "      <td>2022-05-15</td>\n",
       "      <td>2022-08-14</td>\n",
       "      <td>0.205177</td>\n",
       "      <td>1471.902268</td>\n",
       "      <td>1487.3</td>\n",
       "      <td>1395.7</td>\n",
       "      <td>1489.330200</td>\n",
       "    </tr>\n",
       "    <tr>\n",
       "      <th>1</th>\n",
       "      <td>217978642</td>\n",
       "      <td>4400007407699</td>\n",
       "      <td>2022-08-15</td>\n",
       "      <td>2022-11-15</td>\n",
       "      <td>2022-08-15</td>\n",
       "      <td>2022-11-14</td>\n",
       "      <td>0.228462</td>\n",
       "      <td>1299.995972</td>\n",
       "      <td>1395.7</td>\n",
       "      <td>1427.0</td>\n",
       "      <td>1386.020996</td>\n",
       "    </tr>\n",
       "    <tr>\n",
       "      <th>2</th>\n",
       "      <td>217978643</td>\n",
       "      <td>4400007407699</td>\n",
       "      <td>2022-11-15</td>\n",
       "      <td>2023-02-12</td>\n",
       "      <td>2022-11-15</td>\n",
       "      <td>2023-02-11</td>\n",
       "      <td>0.291652</td>\n",
       "      <td>1200.058730</td>\n",
       "      <td>1427.0</td>\n",
       "      <td>1369.0</td>\n",
       "      <td>1397.220947</td>\n",
       "    </tr>\n",
       "    <tr>\n",
       "      <th>3</th>\n",
       "      <td>217978644</td>\n",
       "      <td>4400007407699</td>\n",
       "      <td>2023-02-12</td>\n",
       "      <td>2023-02-13</td>\n",
       "      <td>2023-02-12</td>\n",
       "      <td>2023-02-12</td>\n",
       "      <td>0.003143</td>\n",
       "      <td>318.174931</td>\n",
       "      <td>1369.0</td>\n",
       "      <td>1369.0</td>\n",
       "      <td>1320.855103</td>\n",
       "    </tr>\n",
       "    <tr>\n",
       "      <th>4</th>\n",
       "      <td>217978645</td>\n",
       "      <td>4400007407850</td>\n",
       "      <td>2021-05-28</td>\n",
       "      <td>2022-02-07</td>\n",
       "      <td>2021-05-28</td>\n",
       "      <td>2022-02-06</td>\n",
       "      <td>0.690026</td>\n",
       "      <td>1175.173824</td>\n",
       "      <td>1375.4</td>\n",
       "      <td>1375.4</td>\n",
       "      <td>1380.804932</td>\n",
       "    </tr>\n",
       "  </tbody>\n",
       "</table>\n",
       "</div>"
      ],
      "text/plain": [
       "          rn           mpan  read_date next_read_date  \\\n",
       "0  217978641  4400007407699 2022-05-15     2022-08-15   \n",
       "1  217978642  4400007407699 2022-08-15     2022-11-15   \n",
       "2  217978643  4400007407699 2022-11-15     2023-02-12   \n",
       "3  217978644  4400007407699 2023-02-12     2023-02-13   \n",
       "4  217978645  4400007407850 2021-05-28     2022-02-07   \n",
       "\n",
       "  effective_from_settlement_date effective_to_settlement_date   sum_dpc  \\\n",
       "0                     2022-05-15                   2022-08-14  0.205177   \n",
       "1                     2022-08-15                   2022-11-14  0.228462   \n",
       "2                     2022-11-15                   2023-02-11  0.291652   \n",
       "3                     2023-02-12                   2023-02-12  0.003143   \n",
       "4                     2021-05-28                   2022-02-06  0.690026   \n",
       "\n",
       "        cal_aa previous_eac current_eac      cal_eac  \n",
       "0  1471.902268       1487.3      1395.7  1489.330200  \n",
       "1  1299.995972       1395.7      1427.0  1386.020996  \n",
       "2  1200.058730       1427.0      1369.0  1397.220947  \n",
       "3   318.174931       1369.0      1369.0  1320.855103  \n",
       "4  1175.173824       1375.4      1375.4  1380.804932  "
      ]
     },
     "execution_count": 20,
     "metadata": {},
     "output_type": "execute_result"
    }
   ],
   "source": [
    "new_batch.head()"
   ]
  },
  {
   "cell_type": "code",
   "execution_count": 21,
   "id": "a33b3005",
   "metadata": {},
   "outputs": [],
   "source": [
    "new_batch.to_parquet('batch_updated.parquet')\n",
    "boto3.resource('s3').meta.client.upload_file('batch_updated.parquet','innovation-dev-athena-results', 'tables/all-batches-updated/batch10-updated')"
   ]
  },
  {
   "cell_type": "code",
   "execution_count": 23,
   "id": "29de6587",
   "metadata": {},
   "outputs": [],
   "source": [
    "del new_batch"
   ]
  },
  {
   "cell_type": "markdown",
   "id": "08200f44",
   "metadata": {},
   "source": [
    "# compare to conventional EAC calculation method"
   ]
  },
  {
   "cell_type": "code",
   "execution_count": 11,
   "id": "779bade8",
   "metadata": {},
   "outputs": [],
   "source": [
    "# conventional EAC equation\n",
    "def conventional_eac(sum_dpc, aa, previous_eac):\n",
    "    sum_dpc[sum_dpc>0.5]=0.5\n",
    "    conventional_eac = aa*sum_dpc*2+previous_eac*(1-sum_dpc*2)\n",
    "    return conventional_eac\n"
   ]
  },
  {
   "cell_type": "code",
   "execution_count": 12,
   "id": "7cc2fa55",
   "metadata": {},
   "outputs": [],
   "source": [
    "conv_eac = conventional_eac(batch['sum_dpc'].astype('float'), batch['cal_aa'].astype('float'), batch['previous_eac'].astype('float'))"
   ]
  },
  {
   "cell_type": "code",
   "execution_count": 13,
   "id": "431aa37c",
   "metadata": {},
   "outputs": [
    {
     "name": "stdout",
     "output_type": "stream",
     "text": [
      "conventional EAC calculation error: mape: 0.17738166102762934, wmape: 0.31076651951966244\n",
      "conventional EAC calculation error: mape: 17.738166102762936%, wmape: 31.076651951966245%\n"
     ]
    }
   ],
   "source": [
    "mape0 = mape(conv_eac, batch['current_eac'].astype('float'))\n",
    "wmape0 = wmape(conv_eac, batch['current_eac'].astype('float'))\n",
    "print(\"conventional EAC calculation error: mape: {}, wmape: {}\".format(mape0, wmape0))\n",
    "print(\"conventional EAC calculation error: mape: {}%, wmape: {}%\".format(mape0*100, wmape0*100))"
   ]
  }
 ],
 "metadata": {
  "kernelspec": {
   "display_name": "conda_pytorch_p39",
   "language": "python",
   "name": "conda_pytorch_p39"
  },
  "language_info": {
   "codemirror_mode": {
    "name": "ipython",
    "version": 3
   },
   "file_extension": ".py",
   "mimetype": "text/x-python",
   "name": "python",
   "nbconvert_exporter": "python",
   "pygments_lexer": "ipython3",
   "version": "3.9.15"
  }
 },
 "nbformat": 4,
 "nbformat_minor": 5
}
