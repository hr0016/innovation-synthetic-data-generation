{
 "cells": [
  {
   "cell_type": "code",
   "execution_count": 1,
   "id": "beea7057-917d-41a6-8e9c-e7fee4289986",
   "metadata": {
    "tags": []
   },
   "outputs": [],
   "source": [
    "import numpy as np\n",
    "import pandas as pd\n",
    "import matplotlib.pyplot as plt\n",
    "import datetime\n",
    "from datetime import datetime as dt\n",
    "import boto3, io, os, json, pickle, gzip\n",
    "import re, pyarrow\n",
    "import time\n",
    "from time import gmtime, strftime\n",
    "import sagemaker\n",
    "from sagemaker.xgboost.estimator import XGBoost\n",
    "from sagemaker.estimator import Estimator \n",
    "from sagemaker.transformer import Transformer\n",
    "from sagemaker.amazon.amazon_estimator import get_image_uri"
   ]
  },
  {
   "cell_type": "markdown",
   "id": "071a25b0",
   "metadata": {},
   "source": [
    "# load a small sample dataset to local (optional)"
   ]
  },
  {
   "cell_type": "code",
   "execution_count": 3,
   "id": "4775c793-a898-4204-8dbf-e8752130fd62",
   "metadata": {
    "tags": []
   },
   "outputs": [],
   "source": [
    "\"\"\"\n",
    "def load_dpc_data():\n",
    "    s3 = boto3.resource('s3')\n",
    "    bucket = s3.Bucket('innovation-dev-data-ingress-bucket')\n",
    "    prefix_objs = bucket.objects.filter(Prefix='EAC_D39_DPC/')\n",
    "    df_dpc = []\n",
    "    for obj in prefix_objs:\n",
    "        if obj.key.endswith('.parquet'):\n",
    "            body = obj.get()['Body'].read()\n",
    "            temp = pd.read_parquet(io.BytesIO(body))\n",
    "            df_dpc.append(temp.iloc[::-1])\n",
    "    df_dpc_total = pd.concat(df_dpc)\n",
    "    df_dpc_total.reset_index(drop=True, inplace=True)\n",
    "    df_dpc_total.drop(columns=['daily_profile_coefficient_per_second','rn', 'PARTITION_YYYYMM'])\n",
    "    return df_dpc_total\n",
    "df_dpc_total=load_dpc_data()\n",
    "\"\"\""
   ]
  },
  {
   "cell_type": "code",
   "execution_count": null,
   "id": "29ca3a13-d3fd-4ed2-a9fd-5700dd1cd74d",
   "metadata": {
    "tags": []
   },
   "outputs": [],
   "source": [
    "\"\"\"\n",
    "#dask version\n",
    "import dask.dataframe as dd\n",
    "from dask.diagnostics import ProgressBar\n",
    "ProgressBar().register()\n",
    "df_meter_read_2021=dd.read_parquet('s3://innovation-dev-data-ingress-bucket/METER_READINGS/2021/**/*.parquet', columns=['mpan', 'read_datetime', 'reading_type', 'register_reading', 'valid_read', 'flow_name'])\n",
    "df_meter_read_2022=dd.read_parquet('s3://innovation-dev-data-ingress-bucket/METER_READINGS/2022/**/*.parquet', columns=['mpan', 'read_datetime', 'reading_type', 'register_reading', 'valid_read', 'flow_name'])\n",
    "df_meter_read_2023=dd.read_parquet('s3://innovation-dev-data-ingress-bucket/METER_READINGS/2023/**/*.parquet', columns=['mpan', 'read_datetime', 'reading_type', 'register_reading', 'valid_read', 'flow_name'])\n",
    "\"\"\""
   ]
  },
  {
   "cell_type": "code",
   "execution_count": 186,
   "id": "f451a893",
   "metadata": {},
   "outputs": [
    {
     "data": {
      "text/plain": [
       "\" the following requires pythena to be installed\\ns3 = boto3.client('s3')\\nbucket = 'innovation-dev-athena-results/tables/b922b8ff-ea60-40f6-b89b-557373790d65/'\\noutput_location = 's3://innovation-dev-athena-results/athena-ml/'\\nconn = pyathena.connect(s3_staging_dir=output_location, region_name='eu-west-2',work_group='V2EngineWorkGroup')\\n\""
      ]
     },
     "execution_count": 186,
     "metadata": {},
     "output_type": "execute_result"
    }
   ],
   "source": [
    "\"\"\" the following requires pythena to be installed\n",
    "s3 = boto3.client('s3')\n",
    "bucket = 'innovation-dev-athena-results/tables/b922b8ff-ea60-40f6-b89b-557373790d65/'\n",
    "output_location = 's3://innovation-dev-athena-results/athena-ml/'\n",
    "conn = pyathena.connect(s3_staging_dir=output_location, region_name='eu-west-2',work_group='V2EngineWorkGroup')\n",
    "\"\"\""
   ]
  },
  {
   "cell_type": "code",
   "execution_count": 95,
   "id": "d8134f5b",
   "metadata": {},
   "outputs": [],
   "source": [
    "# load training data locally\n",
    "def load_eac_table(data_file):  \n",
    "    s3 = boto3.resource('s3')  \n",
    "    bucket = s3.Bucket('innovation-dev-athena-results')\n",
    "    prefix_objs = bucket.objects.filter(Prefix='tables/'+data_file)\n",
    "    df = []\n",
    "    for obj in prefix_objs:\n",
    "        body = obj.get()['Body'].read()\n",
    "        temp = pd.read_parquet(io.BytesIO(body))\n",
    "        df.append(temp)\n",
    "    df_total = pd.concat(df)\n",
    "    df_total.reset_index(drop=True, inplace=True)\n",
    "    return df_total"
   ]
  },
  {
   "cell_type": "code",
   "execution_count": null,
   "id": "267c573c-4936-46c2-9fcc-849947a4963a",
   "metadata": {
    "tags": []
   },
   "outputs": [],
   "source": [
    "#df_sample_train = load_eac_table('sample training data/d88cc9bd-97a6-44f8-a36b-4e2b0ae48f17/')\n",
    "df_sample_test = load_eac_table('sample training data/917e6ae0-d77e-4edf-816c-b651c26a6783/') "
   ]
  },
  {
   "cell_type": "code",
   "execution_count": 93,
   "id": "7ba695b5",
   "metadata": {},
   "outputs": [
    {
     "data": {
      "text/plain": [
       "(7601075, 4)"
      ]
     },
     "execution_count": 93,
     "metadata": {},
     "output_type": "execute_result"
    }
   ],
   "source": [
    "df_sample_test.shape"
   ]
  },
  {
   "cell_type": "code",
   "execution_count": 94,
   "id": "20218793",
   "metadata": {},
   "outputs": [
    {
     "data": {
      "text/html": [
       "<div>\n",
       "<style scoped>\n",
       "    .dataframe tbody tr th:only-of-type {\n",
       "        vertical-align: middle;\n",
       "    }\n",
       "\n",
       "    .dataframe tbody tr th {\n",
       "        vertical-align: top;\n",
       "    }\n",
       "\n",
       "    .dataframe thead th {\n",
       "        text-align: right;\n",
       "    }\n",
       "</style>\n",
       "<table border=\"1\" class=\"dataframe\">\n",
       "  <thead>\n",
       "    <tr style=\"text-align: right;\">\n",
       "      <th></th>\n",
       "      <th>current_eac</th>\n",
       "      <th>sum_dpc</th>\n",
       "      <th>cal_aa</th>\n",
       "      <th>previous_eac</th>\n",
       "    </tr>\n",
       "  </thead>\n",
       "  <tbody>\n",
       "    <tr>\n",
       "      <th>0</th>\n",
       "      <td>2702.3</td>\n",
       "      <td>0.046784</td>\n",
       "      <td>2334.155910</td>\n",
       "      <td>2782.4</td>\n",
       "    </tr>\n",
       "    <tr>\n",
       "      <th>1</th>\n",
       "      <td>3703.3</td>\n",
       "      <td>0.010914</td>\n",
       "      <td>3390.028647</td>\n",
       "      <td>3719.6</td>\n",
       "    </tr>\n",
       "    <tr>\n",
       "      <th>2</th>\n",
       "      <td>3981.7</td>\n",
       "      <td>0.004548</td>\n",
       "      <td>3737.701509</td>\n",
       "      <td>3979.2</td>\n",
       "    </tr>\n",
       "    <tr>\n",
       "      <th>3</th>\n",
       "      <td>3954.7</td>\n",
       "      <td>0.099698</td>\n",
       "      <td>3861.670829</td>\n",
       "      <td>4213.4</td>\n",
       "    </tr>\n",
       "    <tr>\n",
       "      <th>4</th>\n",
       "      <td>7854.8</td>\n",
       "      <td>0.076180</td>\n",
       "      <td>8269.871206</td>\n",
       "      <td>7004.7</td>\n",
       "    </tr>\n",
       "  </tbody>\n",
       "</table>\n",
       "</div>"
      ],
      "text/plain": [
       "  current_eac   sum_dpc       cal_aa previous_eac\n",
       "0      2702.3  0.046784  2334.155910       2782.4\n",
       "1      3703.3  0.010914  3390.028647       3719.6\n",
       "2      3981.7  0.004548  3737.701509       3979.2\n",
       "3      3954.7  0.099698  3861.670829       4213.4\n",
       "4      7854.8  0.076180  8269.871206       7004.7"
      ]
     },
     "execution_count": 94,
     "metadata": {},
     "output_type": "execute_result"
    }
   ],
   "source": [
    "df_sample_test.head()"
   ]
  },
  {
   "cell_type": "code",
   "execution_count": null,
   "id": "2d3fc361",
   "metadata": {},
   "outputs": [],
   "source": [
    "df_sample_train.dtypes"
   ]
  },
  {
   "cell_type": "code",
   "execution_count": 18,
   "id": "0e7e43b8-bdaa-4460-9f20-fa012ece061d",
   "metadata": {
    "tags": []
   },
   "outputs": [
    {
     "name": "stdout",
     "output_type": "stream",
     "text": [
      "current_eac     0\n",
      "sum_dpc         0\n",
      "cal_aa          0\n",
      "previous_eac    0\n",
      "dtype: int64\n"
     ]
    }
   ],
   "source": [
    "print(df_sample_train.isna().sum(axis=0))"
   ]
  },
  {
   "cell_type": "markdown",
   "id": "e6e58ec0",
   "metadata": {},
   "source": [
    "# set up cloud environment "
   ]
  },
  {
   "cell_type": "code",
   "execution_count": 39,
   "id": "b75b015a",
   "metadata": {},
   "outputs": [],
   "source": [
    "role = sagemaker.get_execution_role()\n",
    "region = boto3.Session().region_name\n",
    "sess = sagemaker.Session()\n",
    "xgboost_container = sagemaker.image_uris.retrieve(\"xgboost\", region, \"1.7-1\")\n",
    "#xgboost_container = get_image_uri(region, 'xgboost')\n",
    "\n",
    "#model_file_name = \"xgboost\"\n",
    "model_file_name = \"sagemaker-xgboost\""
   ]
  },
  {
   "cell_type": "markdown",
   "id": "406aebcd",
   "metadata": {},
   "source": [
    "# if local model: save, upload and deploy the trained model to endpoint for inference"
   ]
  },
  {
   "cell_type": "code",
   "execution_count": 85,
   "id": "255338a5",
   "metadata": {},
   "outputs": [],
   "source": [
    "# if using xgboost api/local model then need to ensure version is the same as the aws xgboost container\n",
    "#pip install xgboost=1.7.5\n",
    "#import xgboost"
   ]
  },
  {
   "cell_type": "code",
   "execution_count": 3,
   "id": "0af1ce27",
   "metadata": {},
   "outputs": [],
   "source": [
    "#pickle.dump(xgb_model, open('model.pkl', 'wb'))\n",
    "xgboost_model = pickle.load(open('model.pkl', 'rb'))"
   ]
  },
  {
   "cell_type": "code",
   "execution_count": 81,
   "id": "ac49f4e9",
   "metadata": {
    "scrolled": true
   },
   "outputs": [],
   "source": [
    "xgboost_model.save_model(model_file_name)"
   ]
  },
  {
   "cell_type": "code",
   "execution_count": 68,
   "id": "7596bc55",
   "metadata": {},
   "outputs": [
    {
     "name": "stdout",
     "output_type": "stream",
     "text": [
      "xgboost\r\n"
     ]
    }
   ],
   "source": [
    "!tar czvf xgboost_model.tar.gz $model_file_name"
   ]
  },
  {
   "cell_type": "code",
   "execution_count": null,
   "id": "5902a3b9",
   "metadata": {},
   "outputs": [],
   "source": [
    "bucket = \"innovation-dev-models\" \n",
    "prefix = \"models\"\n",
    "fObj = open(\"xgboost_model.tar.gz\", \"rb\")\n",
    "key = os.path.join(prefix, model_file_name, \"xgboost_model.tar.gz\")\n",
    "boto3.Session().resource(\"s3\").Bucket(bucket).Object(key).upload_fileobj(fObj)"
   ]
  },
  {
   "cell_type": "markdown",
   "id": "fe56ad96",
   "metadata": {},
   "source": [
    "# Sagemaker built-in model"
   ]
  },
  {
   "cell_type": "code",
   "execution_count": 93,
   "id": "326ede0c",
   "metadata": {},
   "outputs": [
    {
     "name": "stderr",
     "output_type": "stream",
     "text": [
      "INFO:sagemaker:Creating training-job with name: xgboost-training-job-2023-05-09-14-47-17-432\n"
     ]
    },
    {
     "name": "stdout",
     "output_type": "stream",
     "text": [
      "2023-05-09 14:47:22 Starting - Starting the training job...\n",
      "2023-05-09 14:47:35 Starting - Preparing the instances for training......\n",
      "2023-05-09 14:48:57 Downloading - Downloading input data\n",
      "2023-05-09 14:48:57 Training - Downloading the training image...\n",
      "2023-05-09 14:49:18 Training - Training image download completed. Training in progress....\u001b[34m[2023-05-09 14:49:41.762 ip-10-0-244-36.eu-west-2.compute.internal:7 INFO utils.py:28] RULE_JOB_STOP_SIGNAL_FILENAME: None\u001b[0m\n",
      "\u001b[34m[2023-05-09 14:49:41.832 ip-10-0-244-36.eu-west-2.compute.internal:7 INFO profiler_config_parser.py:111] User has disabled profiler.\u001b[0m\n",
      "\u001b[34m[2023-05-09:14:49:42:INFO] Imported framework sagemaker_xgboost_container.training\u001b[0m\n",
      "\u001b[34m[2023-05-09:14:49:42:INFO] Failed to parse hyperparameter objective value reg:squarederror to Json.\u001b[0m\n",
      "\u001b[34mReturning the value itself\u001b[0m\n",
      "\u001b[34m[2023-05-09:14:49:42:INFO] No GPUs detected (normal if no gpus installed)\u001b[0m\n",
      "\u001b[34m[2023-05-09:14:49:42:INFO] Running XGBoost Sagemaker in algorithm mode\u001b[0m\n",
      "\u001b[34m[2023-05-09:14:49:42:INFO] Determined 0 GPU(s) available on the instance.\u001b[0m\n",
      "\u001b[34m[2023-05-09:14:49:42:INFO] files path: /opt/ml/input/data/train\u001b[0m\n",
      "\u001b[34m[2023-05-09:14:54:18:INFO] files path: /opt/ml/input/data/validation\u001b[0m\n",
      "\u001b[34m[2023-05-09:14:55:15:INFO] Single node training.\u001b[0m\n",
      "\u001b[34m[2023-05-09:14:55:15:INFO] Train matrix has 38031005 rows and 3 columns\u001b[0m\n",
      "\u001b[34m[2023-05-09:14:55:15:INFO] Validation matrix has 7601075 rows\u001b[0m\n",
      "\u001b[34m[2023-05-09 14:55:15.615 ip-10-0-244-36.eu-west-2.compute.internal:7 INFO json_config.py:92] Creating hook from json_config at /opt/ml/input/config/debughookconfig.json.\u001b[0m\n",
      "\u001b[34m[2023-05-09 14:55:15.616 ip-10-0-244-36.eu-west-2.compute.internal:7 INFO hook.py:206] tensorboard_dir has not been set for the hook. SMDebug will not be exporting tensorboard summaries.\u001b[0m\n",
      "\u001b[34m[2023-05-09 14:55:15.616 ip-10-0-244-36.eu-west-2.compute.internal:7 INFO hook.py:259] Saving to /opt/ml/output/tensors\u001b[0m\n",
      "\u001b[34m[2023-05-09 14:55:15.616 ip-10-0-244-36.eu-west-2.compute.internal:7 INFO state_store.py:77] The checkpoint config file /opt/ml/input/config/checkpointconfig.json does not exist.\u001b[0m\n",
      "\u001b[34m[2023-05-09:14:55:15:INFO] Debug hook created from config\u001b[0m\n",
      "\u001b[34m[0]#011train-rmse:6622.03733#011validation-rmse:6212.67569\u001b[0m\n",
      "\u001b[34m[2023-05-09 14:55:25.349 ip-10-0-244-36.eu-west-2.compute.internal:7 INFO hook.py:427] Monitoring the collections: metrics\u001b[0m\n",
      "\u001b[34m[2023-05-09 14:55:25.352 ip-10-0-244-36.eu-west-2.compute.internal:7 INFO hook.py:491] Hook is writing from the hook with pid: 7\u001b[0m\n",
      "\u001b[34m[1]#011train-rmse:5711.80330#011validation-rmse:5225.60694\u001b[0m\n",
      "\u001b[34m[2]#011train-rmse:5043.41636#011validation-rmse:4480.32934\u001b[0m\n",
      "\u001b[34m[3]#011train-rmse:4564.55714#011validation-rmse:3929.47791\u001b[0m\n",
      "\u001b[34m[4]#011train-rmse:4228.95631#011validation-rmse:3530.70839\u001b[0m\n",
      "\u001b[34m[5]#011train-rmse:3998.82900#011validation-rmse:3248.89388\u001b[0m\n",
      "\u001b[34m[6]#011train-rmse:3842.83822#011validation-rmse:3052.93971\u001b[0m\n",
      "\u001b[34m[7]#011train-rmse:3739.25503#011validation-rmse:2919.89168\u001b[0m\n",
      "\u001b[34m[8]#011train-rmse:3670.45055#011validation-rmse:2830.54878\u001b[0m\n",
      "\u001b[34m[9]#011train-rmse:3625.77072#011validation-rmse:2771.33741\u001b[0m\n",
      "\u001b[34m[10]#011train-rmse:3595.98775#011validation-rmse:2731.51684\u001b[0m\n",
      "\u001b[34m[11]#011train-rmse:3576.26206#011validation-rmse:2705.26071\u001b[0m\n",
      "\u001b[34m[12]#011train-rmse:3562.89475#011validation-rmse:2687.02963\u001b[0m\n",
      "\u001b[34m[13]#011train-rmse:3554.58092#011validation-rmse:2675.90337\u001b[0m\n",
      "\u001b[34m[14]#011train-rmse:3548.64388#011validation-rmse:2668.13018\u001b[0m\n",
      "\u001b[34m[15]#011train-rmse:3544.03138#011validation-rmse:2661.50076\u001b[0m\n",
      "\u001b[34m[16]#011train-rmse:3540.03982#011validation-rmse:2655.86138\u001b[0m\n",
      "\u001b[34m[17]#011train-rmse:3536.21372#011validation-rmse:2649.85533\u001b[0m\n",
      "\u001b[34m[18]#011train-rmse:3534.90358#011validation-rmse:2648.03937\u001b[0m\n",
      "\u001b[34m[19]#011train-rmse:3533.96890#011validation-rmse:2646.60938\u001b[0m\n",
      "\u001b[34m[20]#011train-rmse:3532.95596#011validation-rmse:2645.08598\u001b[0m\n",
      "\u001b[34m[21]#011train-rmse:3532.25364#011validation-rmse:2644.09088\u001b[0m\n",
      "\u001b[34m[22]#011train-rmse:3531.64211#011validation-rmse:2643.23325\u001b[0m\n",
      "\u001b[34m[23]#011train-rmse:3531.19335#011validation-rmse:2642.49045\u001b[0m\n",
      "\u001b[34m[24]#011train-rmse:3528.85188#011validation-rmse:2638.82857\u001b[0m\n",
      "\u001b[34m[25]#011train-rmse:3528.54763#011validation-rmse:2638.49634\u001b[0m\n",
      "\u001b[34m[26]#011train-rmse:3528.31465#011validation-rmse:2638.19904\u001b[0m\n",
      "\u001b[34m[27]#011train-rmse:3526.97111#011validation-rmse:2635.98887\u001b[0m\n",
      "\u001b[34m[28]#011train-rmse:3526.67356#011validation-rmse:2635.97951\u001b[0m\n",
      "\u001b[34m[29]#011train-rmse:3525.67709#011validation-rmse:2635.29142\u001b[0m\n",
      "\u001b[34m[30]#011train-rmse:3525.26133#011validation-rmse:2635.32735\u001b[0m\n",
      "\u001b[34m[31]#011train-rmse:3525.16157#011validation-rmse:2635.17852\u001b[0m\n",
      "\u001b[34m[32]#011train-rmse:3524.82027#011validation-rmse:2634.70038\u001b[0m\n",
      "\u001b[34m[33]#011train-rmse:3524.73770#011validation-rmse:2634.64306\u001b[0m\n",
      "\u001b[34m[34]#011train-rmse:3524.59279#011validation-rmse:2634.57332\u001b[0m\n",
      "\u001b[34m[35]#011train-rmse:3523.98729#011validation-rmse:2634.30276\u001b[0m\n",
      "\u001b[34m[36]#011train-rmse:3523.64639#011validation-rmse:2634.07899\u001b[0m\n",
      "\u001b[34m[37]#011train-rmse:3522.56404#011validation-rmse:2631.87597\u001b[0m\n",
      "\u001b[34m[38]#011train-rmse:3522.30127#011validation-rmse:2631.37068\u001b[0m\n",
      "\u001b[34m[39]#011train-rmse:3522.23544#011validation-rmse:2631.33844\u001b[0m\n",
      "\u001b[34m[40]#011train-rmse:3521.45584#011validation-rmse:2630.92965\u001b[0m\n",
      "\u001b[34m[41]#011train-rmse:3520.94494#011validation-rmse:2630.64791\u001b[0m\n",
      "\u001b[34m[42]#011train-rmse:3520.25807#011validation-rmse:2630.01505\u001b[0m\n",
      "\u001b[34m[43]#011train-rmse:3520.20304#011validation-rmse:2630.01976\u001b[0m\n",
      "\u001b[34m[44]#011train-rmse:3520.07963#011validation-rmse:2629.94577\u001b[0m\n",
      "\u001b[34m[45]#011train-rmse:3519.94249#011validation-rmse:2629.77221\u001b[0m\n",
      "\u001b[34m[46]#011train-rmse:3519.68529#011validation-rmse:2629.69309\u001b[0m\n",
      "\u001b[34m[47]#011train-rmse:3518.43261#011validation-rmse:2628.08571\u001b[0m\n",
      "\u001b[34m[48]#011train-rmse:3518.14629#011validation-rmse:2627.62495\u001b[0m\n",
      "\u001b[34m[49]#011train-rmse:3518.03167#011validation-rmse:2627.62723\u001b[0m\n",
      "\u001b[34m[50]#011train-rmse:3518.02591#011validation-rmse:2627.61980\u001b[0m\n",
      "\u001b[34m[51]#011train-rmse:3517.95710#011validation-rmse:2627.63232\u001b[0m\n",
      "\u001b[34m[52]#011train-rmse:3516.79467#011validation-rmse:2626.47995\u001b[0m\n",
      "\u001b[34m[53]#011train-rmse:3516.35748#011validation-rmse:2626.07760\u001b[0m\n",
      "\u001b[34m[54]#011train-rmse:3516.21033#011validation-rmse:2625.97359\u001b[0m\n",
      "\u001b[34m[55]#011train-rmse:3515.87269#011validation-rmse:2625.64921\u001b[0m\n",
      "\u001b[34m[56]#011train-rmse:3515.49139#011validation-rmse:2625.40730\u001b[0m\n",
      "\u001b[34m[57]#011train-rmse:3515.38044#011validation-rmse:2625.29763\u001b[0m\n",
      "\u001b[34m[58]#011train-rmse:3515.18202#011validation-rmse:2624.55601\u001b[0m\n",
      "\u001b[34m[59]#011train-rmse:3515.01654#011validation-rmse:2624.55792\u001b[0m\n",
      "\u001b[34m[60]#011train-rmse:3514.79867#011validation-rmse:2624.53955\u001b[0m\n",
      "\u001b[34m[61]#011train-rmse:3514.59802#011validation-rmse:2624.49851\u001b[0m\n",
      "\u001b[34m[62]#011train-rmse:3514.52667#011validation-rmse:2624.44766\u001b[0m\n",
      "\u001b[34m[63]#011train-rmse:3514.45247#011validation-rmse:2624.39807\u001b[0m\n",
      "\u001b[34m[64]#011train-rmse:3514.22898#011validation-rmse:2623.99867\u001b[0m\n",
      "\u001b[34m[65]#011train-rmse:3514.14974#011validation-rmse:2623.87881\u001b[0m\n",
      "\u001b[34m[66]#011train-rmse:3513.94422#011validation-rmse:2623.95746\u001b[0m\n",
      "\u001b[34m[67]#011train-rmse:3513.75409#011validation-rmse:2624.02583\u001b[0m\n",
      "\u001b[34m[68]#011train-rmse:3513.63957#011validation-rmse:2624.01774\u001b[0m\n",
      "\u001b[34m[69]#011train-rmse:3512.87444#011validation-rmse:2623.26887\u001b[0m\n",
      "\u001b[34m[70]#011train-rmse:3512.52189#011validation-rmse:2623.21882\u001b[0m\n",
      "\u001b[34m[71]#011train-rmse:3512.35319#011validation-rmse:2623.30066\u001b[0m\n",
      "\u001b[34m[72]#011train-rmse:3512.12970#011validation-rmse:2623.06012\u001b[0m\n",
      "\u001b[34m[73]#011train-rmse:3511.62696#011validation-rmse:2623.46530\u001b[0m\n",
      "\u001b[34m[74]#011train-rmse:3511.55847#011validation-rmse:2623.36176\u001b[0m\n",
      "\u001b[34m[75]#011train-rmse:3511.47532#011validation-rmse:2623.16099\u001b[0m\n",
      "\u001b[34m[76]#011train-rmse:3511.28586#011validation-rmse:2623.24923\u001b[0m\n",
      "\u001b[34m[77]#011train-rmse:3511.09203#011validation-rmse:2622.76612\u001b[0m\n",
      "\u001b[34m[78]#011train-rmse:3510.87672#011validation-rmse:2622.91770\u001b[0m\n",
      "\u001b[34m[79]#011train-rmse:3510.79259#011validation-rmse:2622.86890\u001b[0m\n",
      "\u001b[34m[80]#011train-rmse:3510.70474#011validation-rmse:2622.81208\u001b[0m\n",
      "\u001b[34m[81]#011train-rmse:3510.63514#011validation-rmse:2622.88283\u001b[0m\n",
      "\u001b[34m[82]#011train-rmse:3510.48238#011validation-rmse:2622.87156\u001b[0m\n",
      "\u001b[34m[83]#011train-rmse:3510.36817#011validation-rmse:2622.81483\u001b[0m\n",
      "\u001b[34m[84]#011train-rmse:3509.63967#011validation-rmse:2621.73250\u001b[0m\n",
      "\u001b[34m[85]#011train-rmse:3509.46528#011validation-rmse:2621.60357\u001b[0m\n",
      "\u001b[34m[86]#011train-rmse:3509.36048#011validation-rmse:2621.53862\u001b[0m\n",
      "\u001b[34m[87]#011train-rmse:3509.15626#011validation-rmse:2621.40558\u001b[0m\n",
      "\u001b[34m[88]#011train-rmse:3509.09727#011validation-rmse:2621.46540\u001b[0m\n",
      "\u001b[34m[89]#011train-rmse:3509.02473#011validation-rmse:2621.40068\u001b[0m\n",
      "\u001b[34m[90]#011train-rmse:3508.96623#011validation-rmse:2621.39052\u001b[0m\n",
      "\u001b[34m[91]#011train-rmse:3508.91928#011validation-rmse:2621.30230\u001b[0m\n",
      "\u001b[34m[92]#011train-rmse:3508.81182#011validation-rmse:2621.24731\u001b[0m\n",
      "\u001b[34m[93]#011train-rmse:3508.63708#011validation-rmse:2620.87292\u001b[0m\n",
      "\u001b[34m[94]#011train-rmse:3508.58260#011validation-rmse:2620.95767\u001b[0m\n",
      "\u001b[34m[95]#011train-rmse:3508.49429#011validation-rmse:2620.91179\u001b[0m\n",
      "\u001b[34m[96]#011train-rmse:3508.42958#011validation-rmse:2620.74500\u001b[0m\n",
      "\u001b[34m[97]#011train-rmse:3508.41744#011validation-rmse:2620.72514\u001b[0m\n",
      "\u001b[34m[98]#011train-rmse:3508.11099#011validation-rmse:2620.84306\u001b[0m\n",
      "\u001b[34m[99]#011train-rmse:3507.75980#011validation-rmse:2620.07711\u001b[0m\n",
      "\u001b[34m[100]#011train-rmse:3507.72448#011validation-rmse:2620.12063\u001b[0m\n",
      "\u001b[34m[101]#011train-rmse:3507.64888#011validation-rmse:2620.14134\u001b[0m\n",
      "\u001b[34m[102]#011train-rmse:3507.33161#011validation-rmse:2620.69143\u001b[0m\n",
      "\u001b[34m[103]#011train-rmse:3507.18523#011validation-rmse:2620.50834\u001b[0m\n",
      "\u001b[34m[104]#011train-rmse:3507.13510#011validation-rmse:2620.57216\u001b[0m\n",
      "\u001b[34m[105]#011train-rmse:3506.93946#011validation-rmse:2620.27632\u001b[0m\n",
      "\u001b[34m[106]#011train-rmse:3506.81651#011validation-rmse:2619.91606\u001b[0m\n",
      "\u001b[34m[107]#011train-rmse:3506.75343#011validation-rmse:2619.87789\u001b[0m\n",
      "\u001b[34m[108]#011train-rmse:3506.57342#011validation-rmse:2619.85390\u001b[0m\n",
      "\u001b[34m[109]#011train-rmse:3506.48403#011validation-rmse:2619.85821\u001b[0m\n",
      "\u001b[34m[110]#011train-rmse:3506.38576#011validation-rmse:2619.65819\u001b[0m\n",
      "\u001b[34m[111]#011train-rmse:3506.38155#011validation-rmse:2619.66627\u001b[0m\n",
      "\u001b[34m[112]#011train-rmse:3506.35899#011validation-rmse:2619.65493\u001b[0m\n",
      "\u001b[34m[113]#011train-rmse:3506.19253#011validation-rmse:2619.40358\u001b[0m\n",
      "\u001b[34m[114]#011train-rmse:3505.96410#011validation-rmse:2618.74028\u001b[0m\n",
      "\u001b[34m[115]#011train-rmse:3505.62803#011validation-rmse:2618.81584\u001b[0m\n",
      "\u001b[34m[116]#011train-rmse:3505.55640#011validation-rmse:2618.92447\u001b[0m\n",
      "\u001b[34m[117]#011train-rmse:3505.42955#011validation-rmse:2618.76140\u001b[0m\n",
      "\u001b[34m[118]#011train-rmse:3505.32477#011validation-rmse:2618.82675\u001b[0m\n",
      "\u001b[34m[119]#011train-rmse:3505.19293#011validation-rmse:2618.86054\u001b[0m\n",
      "\u001b[34m[120]#011train-rmse:3505.16137#011validation-rmse:2618.84120\u001b[0m\n",
      "\u001b[34m[121]#011train-rmse:3505.13002#011validation-rmse:2618.84772\u001b[0m\n",
      "\u001b[34m[122]#011train-rmse:3504.93516#011validation-rmse:2618.77380\u001b[0m\n",
      "\u001b[34m[123]#011train-rmse:3504.84327#011validation-rmse:2618.70707\u001b[0m\n",
      "\u001b[34m[124]#011train-rmse:3504.73747#011validation-rmse:2618.67454\u001b[0m\n",
      "\u001b[34m[125]#011train-rmse:3504.70929#011validation-rmse:2618.66753\u001b[0m\n",
      "\u001b[34m[126]#011train-rmse:3504.62259#011validation-rmse:2619.09544\u001b[0m\n",
      "\u001b[34m[127]#011train-rmse:3504.56564#011validation-rmse:2619.11656\u001b[0m\n",
      "\u001b[34m[128]#011train-rmse:3504.54289#011validation-rmse:2619.08821\u001b[0m\n",
      "\u001b[34m[129]#011train-rmse:3504.46903#011validation-rmse:2618.79776\u001b[0m\n",
      "\u001b[34m[130]#011train-rmse:3504.44319#011validation-rmse:2618.79669\u001b[0m\n",
      "\u001b[34m[131]#011train-rmse:3504.32971#011validation-rmse:2618.85715\u001b[0m\n",
      "\u001b[34m[132]#011train-rmse:3504.17717#011validation-rmse:2618.87951\u001b[0m\n",
      "\u001b[34m[133]#011train-rmse:3504.10334#011validation-rmse:2619.11178\u001b[0m\n",
      "\u001b[34m[134]#011train-rmse:3504.02839#011validation-rmse:2619.11210\u001b[0m\n",
      "\u001b[34m[135]#011train-rmse:3503.97069#011validation-rmse:2619.22140\u001b[0m\n",
      "\u001b[34m[136]#011train-rmse:3503.69917#011validation-rmse:2618.70068\u001b[0m\n",
      "\u001b[34m[137]#011train-rmse:3503.44572#011validation-rmse:2618.51221\u001b[0m\n",
      "\u001b[34m[138]#011train-rmse:3503.43695#011validation-rmse:2618.57293\u001b[0m\n",
      "\u001b[34m[139]#011train-rmse:3503.35248#011validation-rmse:2618.71494\u001b[0m\n",
      "\u001b[34m[140]#011train-rmse:3503.16199#011validation-rmse:2618.84158\u001b[0m\n",
      "\u001b[34m[141]#011train-rmse:3503.12199#011validation-rmse:2618.78459\u001b[0m\n",
      "\u001b[34m[142]#011train-rmse:3502.94636#011validation-rmse:2618.91053\u001b[0m\n",
      "\u001b[34m[143]#011train-rmse:3502.84349#011validation-rmse:2618.78739\u001b[0m\n",
      "\u001b[34m[144]#011train-rmse:3502.76367#011validation-rmse:2618.83918\u001b[0m\n",
      "\u001b[34m[145]#011train-rmse:3502.73375#011validation-rmse:2618.77654\u001b[0m\n",
      "\u001b[34m[146]#011train-rmse:3502.74459#011validation-rmse:2618.69989\u001b[0m\n",
      "\u001b[34m[147]#011train-rmse:3502.72152#011validation-rmse:2618.61315\u001b[0m\n",
      "\u001b[34m[148]#011train-rmse:3502.64312#011validation-rmse:2618.62873\u001b[0m\n",
      "\u001b[34m[149]#011train-rmse:3502.44950#011validation-rmse:2618.71630\u001b[0m\n",
      "\u001b[34m[150]#011train-rmse:3502.40990#011validation-rmse:2618.78933\u001b[0m\n",
      "\u001b[34m[151]#011train-rmse:3502.31533#011validation-rmse:2618.71008\u001b[0m\n",
      "\u001b[34m[152]#011train-rmse:3502.26987#011validation-rmse:2618.67279\u001b[0m\n",
      "\u001b[34m[153]#011train-rmse:3502.17355#011validation-rmse:2618.52750\u001b[0m\n",
      "\u001b[34m[154]#011train-rmse:3502.05094#011validation-rmse:2618.76551\u001b[0m\n",
      "\u001b[34m[155]#011train-rmse:3501.97366#011validation-rmse:2618.75609\u001b[0m\n",
      "\u001b[34m[156]#011train-rmse:3501.84581#011validation-rmse:2618.72890\u001b[0m\n",
      "\u001b[34m[157]#011train-rmse:3501.69221#011validation-rmse:2618.73543\u001b[0m\n",
      "\u001b[34m[158]#011train-rmse:3501.61881#011validation-rmse:2618.56656\u001b[0m\n",
      "\u001b[34m[159]#011train-rmse:3501.29209#011validation-rmse:2618.95361\u001b[0m\n",
      "\u001b[34m[160]#011train-rmse:3501.10270#011validation-rmse:2619.01481\u001b[0m\n",
      "\u001b[34m[161]#011train-rmse:3501.08567#011validation-rmse:2619.05780\u001b[0m\n",
      "\u001b[34m[162]#011train-rmse:3500.93399#011validation-rmse:2619.20133\u001b[0m\n",
      "\u001b[34m[163]#011train-rmse:3500.90849#011validation-rmse:2619.15473\u001b[0m\n",
      "\u001b[34m[164]#011train-rmse:3500.75459#011validation-rmse:2618.89152\u001b[0m\n",
      "\u001b[34m[165]#011train-rmse:3500.68558#011validation-rmse:2618.98148\u001b[0m\n",
      "\u001b[34m[166]#011train-rmse:3500.53599#011validation-rmse:2618.77812\u001b[0m\n",
      "\u001b[34m[167]#011train-rmse:3500.47248#011validation-rmse:2618.92380\u001b[0m\n",
      "\u001b[34m[168]#011train-rmse:3500.11569#011validation-rmse:2618.88610\u001b[0m\n",
      "\u001b[34m[169]#011train-rmse:3499.95804#011validation-rmse:2619.04597\u001b[0m\n",
      "\u001b[34m[170]#011train-rmse:3499.90350#011validation-rmse:2619.02304\u001b[0m\n",
      "\u001b[34m[171]#011train-rmse:3499.87481#011validation-rmse:2618.98867\u001b[0m\n",
      "\u001b[34m[172]#011train-rmse:3499.80385#011validation-rmse:2619.11923\u001b[0m\n",
      "\u001b[34m[173]#011train-rmse:3499.74614#011validation-rmse:2619.19824\u001b[0m\n",
      "\u001b[34m[174]#011train-rmse:3499.71608#011validation-rmse:2619.15327\u001b[0m\n",
      "\u001b[34m[175]#011train-rmse:3499.66850#011validation-rmse:2619.23570\u001b[0m\n",
      "\u001b[34m[176]#011train-rmse:3499.62640#011validation-rmse:2619.23267\u001b[0m\n",
      "\u001b[34m[177]#011train-rmse:3499.56712#011validation-rmse:2619.15933\u001b[0m\n",
      "\u001b[34m[178]#011train-rmse:3499.42348#011validation-rmse:2619.37786\u001b[0m\n",
      "\u001b[34m[179]#011train-rmse:3499.27826#011validation-rmse:2619.57578\u001b[0m\n",
      "\u001b[34m[180]#011train-rmse:3499.20941#011validation-rmse:2619.29807\u001b[0m\n",
      "\u001b[34m[181]#011train-rmse:3499.03781#011validation-rmse:2619.33291\u001b[0m\n",
      "\u001b[34m[182]#011train-rmse:3498.85398#011validation-rmse:2619.38673\u001b[0m\n",
      "\u001b[34m[183]#011train-rmse:3498.82253#011validation-rmse:2619.31796\u001b[0m\n",
      "\u001b[34m[184]#011train-rmse:3498.74339#011validation-rmse:2619.34516\u001b[0m\n",
      "\u001b[34m[185]#011train-rmse:3498.69574#011validation-rmse:2619.44560\u001b[0m\n",
      "\u001b[34m[186]#011train-rmse:3498.63207#011validation-rmse:2619.44074\u001b[0m\n",
      "\u001b[34m[187]#011train-rmse:3498.33171#011validation-rmse:2619.32219\u001b[0m\n",
      "\u001b[34m[188]#011train-rmse:3498.25282#011validation-rmse:2619.30087\u001b[0m\n",
      "\u001b[34m[189]#011train-rmse:3498.19128#011validation-rmse:2619.34231\u001b[0m\n",
      "\u001b[34m[190]#011train-rmse:3498.12895#011validation-rmse:2619.36958\u001b[0m\n",
      "\u001b[34m[191]#011train-rmse:3498.11241#011validation-rmse:2619.34332\u001b[0m\n",
      "\u001b[34m[192]#011train-rmse:3497.85922#011validation-rmse:2618.96870\u001b[0m\n",
      "\u001b[34m[193]#011train-rmse:3497.82215#011validation-rmse:2618.78160\u001b[0m\n",
      "\u001b[34m[194]#011train-rmse:3497.82860#011validation-rmse:2618.76475\u001b[0m\n",
      "\u001b[34m[195]#011train-rmse:3497.79512#011validation-rmse:2618.77495\u001b[0m\n",
      "\u001b[34m[196]#011train-rmse:3497.74314#011validation-rmse:2618.81642\u001b[0m\n",
      "\u001b[34m[197]#011train-rmse:3497.71393#011validation-rmse:2618.84869\u001b[0m\n",
      "\u001b[34m[198]#011train-rmse:3497.67109#011validation-rmse:2618.89909\u001b[0m\n",
      "\n",
      "2023-05-09 15:09:39 Uploading - Uploading generated training model\u001b[34m[199]#011train-rmse:3497.65722#011validation-rmse:2618.87891\u001b[0m\n",
      "\n",
      "2023-05-09 15:09:50 Completed - Training job completed\n",
      "Training seconds: 1278\n",
      "Billable seconds: 1278\n"
     ]
    }
   ],
   "source": [
    "# built-in model\n",
    "\n",
    "train_data_path = f's3://innovation-dev-athena-results/tables/sample training data/d88cc9bd-97a6-44f8-a36b-4e2b0ae48f17/'\n",
    "val_data_path = f's3://innovation-dev-athena-results/tables/sample training data/917e6ae0-d77e-4edf-816c-b651c26a6783/'\n",
    "output_path = f's3://innovation-dev-models/sagemaker-xgb'\n",
    "\n",
    "xgboost_estimator = Estimator(image_uri=xgboost_container, \n",
    "                    #entry_point='innovation-dev-data-insight.ipynb',\n",
    "                    #framework_version=\"1.7-1\", \n",
    "                    #hyperparameters=hyperparameters,\n",
    "                    role=role,\n",
    "                    instance_count=1, \n",
    "                    instance_type='ml.m5.2xlarge', \n",
    "                    #volume_size=100, # GB \n",
    "                    base_job_name = 'xgboost-training-job',\n",
    "                    output_path=output_path,\n",
    "                    sagemaker_session=sess)\n",
    "\n",
    "xgboost_estimator.set_hyperparameters(max_depth=5,\n",
    "                        eta=0.2,\n",
    "                        gamma=4,\n",
    "                        min_child_weight=6,\n",
    "                        subsample=0.8,\n",
    "                        objective='reg:squarederror',\n",
    "                        num_round=200)\n",
    "\n",
    "\n",
    "train = sagemaker.inputs.TrainingInput(train_data_path, content_type=\"application/x-parquet\")\n",
    "val = sagemaker.inputs.TrainingInput(val_data_path, content_type=\"application/x-parquet\")\n",
    "xgboost_estimator.fit({'train': train, 'validation': val})\n"
   ]
  },
  {
   "cell_type": "markdown",
   "id": "43a6624d",
   "metadata": {},
   "source": [
    "# deploy model for inference - single model case"
   ]
  },
  {
   "cell_type": "code",
   "execution_count": 94,
   "id": "6aa2e465",
   "metadata": {},
   "outputs": [
    {
     "name": "stdout",
     "output_type": "stream",
     "text": [
      "https://innovation-dev-models.s3.eu-west-2.amazonaws.com/sagemaker-xgb/xgboost-training-job-2023-05-05-17-41-32-982/output/model.tar.gz\n"
     ]
    }
   ],
   "source": [
    "model_name = model_file_name + strftime(\"%Y-%m-%d-%H-%M-%S\", gmtime())\n",
    "#model_url = 'https://s3-{}.amazonaws.com/{}/{}'.format(region,bucket,key)\n",
    "#model_url='s3://innovation-dev-models/sagemaker-xgb/xgboost-training-job-2023-05-05-17-41-32-982/output/model.tar.gz'\n",
    "model_url='https://innovation-dev-models.s3.eu-west-2.amazonaws.com/sagemaker-xgb/xgboost-training-job-2023-05-05-17-41-32-982/output/model.tar.gz'\n",
    "client = boto3.client(\"sagemaker\")\n",
    "print(model_url)"
   ]
  },
  {
   "cell_type": "code",
   "execution_count": 95,
   "id": "33629b3f",
   "metadata": {},
   "outputs": [
    {
     "name": "stdout",
     "output_type": "stream",
     "text": [
      "arn:aws:sagemaker:eu-west-2:344511226304:model/sagemaker-xgboost2023-05-09-15-13-00\n"
     ]
    }
   ],
   "source": [
    "primary_container = {\n",
    "    \"Image\": xgboost_container,\n",
    "    \"ModelDataUrl\": model_url,\n",
    "}\n",
    "\n",
    "create_model_response = client.create_model(\n",
    "    ModelName=model_name, ExecutionRoleArn=role, PrimaryContainer=primary_container\n",
    ")\n",
    "\n",
    "print(create_model_response[\"ModelArn\"])"
   ]
  },
  {
   "cell_type": "code",
   "execution_count": 96,
   "id": "16bf625a",
   "metadata": {},
   "outputs": [
    {
     "name": "stdout",
     "output_type": "stream",
     "text": [
      "xgboost-endpoint-config-2023-05-09-15-13-11\n",
      "Endpoint Config Arn: arn:aws:sagemaker:eu-west-2:344511226304:endpoint-config/xgboost-endpoint-config-2023-05-09-15-13-11\n"
     ]
    }
   ],
   "source": [
    "endpoint_config_name = \"xgboost-endpoint-config-\" + strftime(\"%Y-%m-%d-%H-%M-%S\", gmtime())\n",
    "print(endpoint_config_name)\n",
    "create_endpoint_config_response = client.create_endpoint_config(\n",
    "    EndpointConfigName=endpoint_config_name,\n",
    "    ProductionVariants=[\n",
    "        {\n",
    "            \"InstanceType\": \"ml.m5.xlarge\",\n",
    "            \"InitialInstanceCount\": 1,\n",
    "            \"InitialVariantWeight\": 1,\n",
    "            \"ModelName\": model_name,\n",
    "            \"VariantName\": \"traffic-distribution-over-models\",\n",
    "        }\n",
    "    ],\n",
    ")\n",
    "\n",
    "print(\"Endpoint Config Arn: \" + create_endpoint_config_response[\"EndpointConfigArn\"])"
   ]
  },
  {
   "cell_type": "code",
   "execution_count": 97,
   "id": "df45ac49",
   "metadata": {},
   "outputs": [
    {
     "name": "stdout",
     "output_type": "stream",
     "text": [
      "xgboost-endpoint-2023-05-09-15-13-13\n",
      "arn:aws:sagemaker:eu-west-2:344511226304:endpoint/xgboost-endpoint-2023-05-09-15-13-13\n",
      "Status: Creating\n",
      "Status: Creating\n",
      "Status: Creating\n",
      "Status: InService\n",
      "Arn: arn:aws:sagemaker:eu-west-2:344511226304:endpoint/xgboost-endpoint-2023-05-09-15-13-13\n",
      "Status: InService\n"
     ]
    }
   ],
   "source": [
    "endpoint_name = \"xgboost-endpoint-\" + strftime(\"%Y-%m-%d-%H-%M-%S\", gmtime())\n",
    "print(endpoint_name)\n",
    "create_endpoint_response = client.create_endpoint(\n",
    "    EndpointName=endpoint_name, \n",
    "    EndpointConfigName=endpoint_config_name,\n",
    ")\n",
    "print(create_endpoint_response[\"EndpointArn\"])\n",
    "\n",
    "resp = client.describe_endpoint(EndpointName=endpoint_name)\n",
    "status = resp[\"EndpointStatus\"]\n",
    "print(\"Status: \" + status)\n",
    "\n",
    "while status == \"Creating\":\n",
    "    time.sleep(60)\n",
    "    resp = client.describe_endpoint(EndpointName=endpoint_name)\n",
    "    status = resp[\"EndpointStatus\"]\n",
    "    print(\"Status: \" + status)\n",
    "\n",
    "print(\"Arn: \" + resp[\"EndpointArn\"])\n",
    "print(\"Status: \" + status)"
   ]
  },
  {
   "cell_type": "markdown",
   "id": "c72605e1",
   "metadata": {},
   "source": [
    "# industry version EAC calculation approach"
   ]
  },
  {
   "cell_type": "code",
   "execution_count": null,
   "id": "c8bf485f",
   "metadata": {},
   "outputs": [],
   "source": [
    "#!pip install awscli\n",
    "#!aws configure list\n",
    "#!aws sts get-caller-identity \n",
    "#!cat container/Dockerfile"
   ]
  },
  {
   "cell_type": "code",
   "execution_count": 365,
   "id": "b26053cf",
   "metadata": {},
   "outputs": [],
   "source": [
    "#pickle.dump(ind_eac, open('ind_eac.pkl', 'wb'))\n",
    "#ind_eac = pickle.load(open('ind_eac.pkl', 'rb'))\n",
    "\n",
    "#from container.multi_model.ind_eac import ind_eac "
   ]
  },
  {
   "cell_type": "code",
   "execution_count": 431,
   "id": "ae180958",
   "metadata": {},
   "outputs": [
    {
     "name": "stdout",
     "output_type": "stream",
     "text": [
      "Login Succeeded\n",
      "\r\n",
      "Step 1/12 : FROM ubuntu:18.04\n",
      " ---> 3941d3b032a8\n",
      "Step 2/12 : MAINTAINER Amazon AI <sage-learner@amazon.com>\n",
      " ---> Using cache\n",
      " ---> f08a9b633d9d\n",
      "Step 3/12 : RUN apt-get -y update && apt-get install -y --no-install-recommends          wget          python3-pip          python3-setuptools          nginx          ca-certificates     && rm -rf /var/lib/apt/lists/*\n",
      " ---> Using cache\n",
      " ---> 2fa6c3a6f682\n",
      "Step 4/12 : RUN ln -s /usr/bin/python3 /usr/bin/python\n",
      " ---> Using cache\n",
      " ---> 5465fb772d21\n",
      "Step 5/12 : RUN ln -s /usr/bin/pip3 /usr/bin/pip\n",
      " ---> Using cache\n",
      " ---> 25aae49afcf3\n",
      "Step 6/12 : RUN pip --no-cache-dir install numpy==1.16.2 scipy==1.2.1 scikit-learn==0.20.2 pandas flask gunicorn\n",
      " ---> Using cache\n",
      " ---> 528fe7a2860d\n",
      "Step 7/12 : LABEL com.amazonaws.sagemaker.capabilities.accept-bind-to-port=TRUE\n",
      " ---> Using cache\n",
      " ---> f0bdb50cf0cd\n",
      "Step 8/12 : ENV PYTHONUNBUFFERED=TRUE\n",
      " ---> Using cache\n",
      " ---> 6967ecbed512\n",
      "Step 9/12 : ENV PYTHONDONTWRITEBYTECODE=TRUE\n",
      " ---> Using cache\n",
      " ---> 96202bc7a124\n",
      "Step 10/12 : ENV PATH=\"/opt/program:${PATH}\"\n",
      " ---> Using cache\n",
      " ---> 8966fb19c1ac\n",
      "Step 11/12 : COPY multi_model /opt/program\n",
      " ---> Using cache\n",
      " ---> e8fa9adef7d2\n",
      "Step 12/12 : WORKDIR /opt/program\n",
      " ---> Using cache\n",
      " ---> 5bb31d3ff060\n",
      "Successfully built 5bb31d3ff060\n",
      "Successfully tagged multi-model:latest\n",
      "The push refers to repository [344511226304.dkr.ecr.eu-west-2.amazonaws.com/multi-model]\n",
      "7745766f52a1: Preparing\n",
      "d79b98cff5ce: Preparing\n",
      "723d4f024f15: Preparing\n",
      "ac7cbd62b5ea: Preparing\n",
      "3c406fa33275: Preparing\n",
      "b7e0fa7bfe7f: Preparing\n",
      "b7e0fa7bfe7f: Waiting\n",
      "3c406fa33275: Layer already exists\n",
      "723d4f024f15: Layer already exists\n",
      "7745766f52a1: Layer already exists\n",
      "ac7cbd62b5ea: Layer already exists\n",
      "b7e0fa7bfe7f: Layer already exists\n",
      "d79b98cff5ce: Layer already exists\n",
      "latest: digest: sha256:efa8d5a1ab92709faff1515103dbbab5911f97c3cf3dabd3aeb3c97ac5799cc9 size: 1575\n"
     ]
    },
    {
     "name": "stderr",
     "output_type": "stream",
     "text": [
      "WARNING! Your password will be stored unencrypted in /home/ec2-user/.docker/config.json.\n",
      "Configure a credential helper to remove this warning. See\n",
      "https://docs.docker.com/engine/reference/commandline/login/#credentials-store\n",
      "\n"
     ]
    }
   ],
   "source": [
    "%%sh\n",
    "\n",
    "# The name of our algorithm\n",
    "algorithm_name=multi-model\n",
    "\n",
    "cd container\n",
    "\n",
    "chmod +x multi_model/train\n",
    "chmod +x multi_model/serve\n",
    "\n",
    "account=$(aws sts get-caller-identity --query Account --output text)\n",
    "\n",
    "# Get the region defined in the current configuration (default to eu-west-2 if none defined)\n",
    "region=$(aws configure get region)\n",
    "region=${region:-eu-west-2}\n",
    "\n",
    "fullname=\"${account}.dkr.ecr.${region}.amazonaws.com/${algorithm_name}:latest\"\n",
    "\n",
    "# If the repository doesn't exist in ECR, create it.\n",
    "aws ecr describe-repositories --repository-names \"${algorithm_name}\" > /dev/null 2>&1\n",
    "\n",
    "if [ $? -ne 0 ]\n",
    "then\n",
    "    aws ecr create-repository --repository-name \"${algorithm_name}\" > /dev/null\n",
    "fi\n",
    "\n",
    "# Get the login command from ECR and execute it directly\n",
    "aws ecr get-login-password --region ${region}|docker login --username AWS --password-stdin ${fullname}\n",
    "#$(aws ecr get-login --region ${region} --no-include-email)\n",
    "\n",
    "# Build the docker image locally with the image name and then push it to ECR\n",
    "# with the full name.\n",
    "\n",
    "#docker build -t multi-model .\n",
    "#docker tag multi-model:latest 344511226304.dkr.ecr.eu-west-2.amazonaws.com/multi-model:latest\n",
    "#docker push 344511226304.dkr.ecr.eu-west-2.amazonaws.com/multi-model:latest\n",
    "\n",
    "docker build -t ${algorithm_name} .\n",
    "docker tag ${algorithm_name} ${fullname}\n",
    "docker push ${fullname}"
   ]
  },
  {
   "cell_type": "code",
   "execution_count": 432,
   "id": "c13c2c01",
   "metadata": {},
   "outputs": [
    {
     "name": "stderr",
     "output_type": "stream",
     "text": [
      "WARNING:sagemaker.deprecations:train_instance_count has been renamed in sagemaker>=2.\n",
      "See: https://sagemaker.readthedocs.io/en/stable/v2.html for details.\n",
      "WARNING:sagemaker.deprecations:train_instance_type has been renamed in sagemaker>=2.\n",
      "See: https://sagemaker.readthedocs.io/en/stable/v2.html for details.\n",
      "INFO:sagemaker:Creating training-job with name: industry-version-eac-calculation-job-2023-05-18-15-14-12-706\n"
     ]
    },
    {
     "name": "stdout",
     "output_type": "stream",
     "text": [
      "2023-05-18 15:14:13 Starting - Starting the training job...\n",
      "2023-05-18 15:14:28 Starting - Preparing the instances for training...\n",
      "2023-05-18 15:15:19 Downloading - Downloading input data...\n",
      "2023-05-18 15:15:45 Training - Training image download completed. Training in progress.\n",
      "2023-05-18 15:15:45 Uploading - Uploading generated training model\u001b[34mStarting the training.\u001b[0m\n",
      "\u001b[34m/opt/program\u001b[0m\n",
      "\u001b[34mTraining complete.\u001b[0m\n",
      "\n",
      "2023-05-18 15:15:55 Completed - Training job completed\n",
      "Training seconds: 37\n",
      "Billable seconds: 37\n"
     ]
    }
   ],
   "source": [
    "account = boto3.client('sts').get_caller_identity()[\"Account\"]\n",
    "algorithm_name='multi-model'\n",
    "image = \"{}.dkr.ecr.{}.amazonaws.com/{}:latest\".format(account, region, algorithm_name)\n",
    "\n",
    "#same S3 path as the other xgboost model\n",
    "output_path = f's3://innovation-dev-models/multi-model/industry-version-eac-calculation'\n",
    "\n",
    "industry_version_eac_estimator = sagemaker.estimator.Estimator(\n",
    "    image_uri=image,\n",
    "    role=role,\n",
    "    train_instance_count=1,\n",
    "    train_instance_type=\"ml.m5.xlarge\",\n",
    "    base_job_name = 'industry-version-eac-calculation-job',\n",
    "    output_path=output_path,\n",
    "    sagemaker_session=sess,\n",
    ")\n",
    "\n",
    "industry_version_eac_estimator.fit()"
   ]
  },
  {
   "cell_type": "code",
   "execution_count": null,
   "id": "e65ded3b",
   "metadata": {},
   "outputs": [],
   "source": [
    "from sagemaker.predictor import csv_serializer\n",
    "predictor = industry_version_eac_estimator.deploy(1, \"ml.m5.xlarge\", serializer=csv_serializer)"
   ]
  },
  {
   "cell_type": "code",
   "execution_count": 387,
   "id": "c8bbf8ff",
   "metadata": {},
   "outputs": [
    {
     "name": "stderr",
     "output_type": "stream",
     "text": [
      "WARNING:sagemaker.deprecations:The csv_serializer has been renamed in sagemaker>=2.\n",
      "See: https://sagemaker.readthedocs.io/en/stable/v2.html for details.\n"
     ]
    },
    {
     "data": {
      "text/plain": [
       "'2740.459138722758\\n3712.405877874092\\n3977.003209090916\\n4143.266766582701\\n7197.461855674734\\n2900.7674601566523\\n2979.9189625355\\n3671.8175999562163\\n3659.532319391288\\n3497.600366891133\\n'"
      ]
     },
     "execution_count": 387,
     "metadata": {},
     "output_type": "execute_result"
    }
   ],
   "source": [
    "predictor.predict(quick_test.values).decode(\"utf-8\")"
   ]
  },
  {
   "cell_type": "markdown",
   "id": "405376bf",
   "metadata": {},
   "source": [
    "# invoke endpoint to make inferences for both models "
   ]
  },
  {
   "cell_type": "code",
   "execution_count": 307,
   "id": "3088a6a6",
   "metadata": {},
   "outputs": [],
   "source": [
    "# create a user csv file for inference\n",
    "np.savetxt(\"test_point.csv\", df_sample_test.values[:10,1:], delimiter=\",\") "
   ]
  },
  {
   "cell_type": "code",
   "execution_count": null,
   "id": "faf17469",
   "metadata": {},
   "outputs": [],
   "source": [
    "runtime_client = boto3.client(\"runtime.sagemaker\")"
   ]
  },
  {
   "cell_type": "code",
   "execution_count": 266,
   "id": "7d7b193f",
   "metadata": {},
   "outputs": [
    {
     "name": "stdout",
     "output_type": "stream",
     "text": [
      "Predicted EAC: [2753.158447265625, 3696.253173828125, 3941.913818359375, 4168.85107421875, 7261.4326171875, 2908.686279296875, 2812.234130859375, 3701.4091796875, 3686.693359375, 3512.41259765625]\n"
     ]
    }
   ],
   "source": [
    "xgboost_endpoint_name='xgboost-endpoint-2023-05-09-16-08-43'\n",
    "with open(\"test_point.csv\", \"r\") as f:\n",
    "    payload = f.read().strip()\n",
    "response = runtime_client.invoke_endpoint(EndpointName=xgboost_endpoint_name, ContentType=\"text/csv\", TargetModel=\"sagemaker-xgb.tar.gz\", Body=payload)\n",
    "results = response[\"Body\"].read().decode(\"ascii\")\n",
    "print(\"XGBoost predicted EAC: {}\".format(results))"
   ]
  },
  {
   "cell_type": "code",
   "execution_count": 384,
   "id": "bdff59f0",
   "metadata": {},
   "outputs": [
    {
     "name": "stdout",
     "output_type": "stream",
     "text": [
      "Predicted EAC: 2740.459138722758\n",
      "3712.405877874092\n",
      "3977.003209090916\n",
      "4143.266766582701\n",
      "7197.461855674734\n",
      "2900.7674601566523\n",
      "2979.9189625355007\n",
      "3671.8175999562163\n",
      "3659.532319391288\n",
      "3497.600366891133\n",
      "\n"
     ]
    }
   ],
   "source": [
    "ind_eac_endpoint_name = 'industry-version-eac-calculation-job-2023-05-17-19-35-28-146'\n",
    "with open(\"test_point.csv\", \"r\") as f:\n",
    "    payload = f.read().strip()\n",
    "response = runtime_client.invoke_endpoint(EndpointName=ind_eac_endpoint_name, ContentType=\"text/csv\", Body=payload)\n",
    "results = response[\"Body\"].read().decode(\"ascii\")\n",
    "print(\"Industry version calculated EAC: {}\".format(results))"
   ]
  },
  {
   "cell_type": "markdown",
   "id": "84b9448b",
   "metadata": {},
   "source": [
    "# deployment for multi-container case"
   ]
  },
  {
   "cell_type": "code",
   "execution_count": 438,
   "id": "c9aeda37",
   "metadata": {},
   "outputs": [
    {
     "name": "stderr",
     "output_type": "stream",
     "text": [
      "INFO:sagemaker.image_uris:Ignoring unnecessary instance type: None.\n"
     ]
    }
   ],
   "source": [
    "ind_eac_image_uri = '{}.dkr.ecr.{}.amazonaws.com/{}:latest'.format(account, region, algorithm_name)\n",
    "ind_eac_model_url = 'https://innovation-dev-models.s3.eu-west-2.amazonaws.com/multi-model/industry-version-eac-calculation/industry-version-eac-calculation-job-2023-05-18-15-14-12-706/output/model.tar.gz'\n",
    "ind_eac_container = {'ContainerHostname': 'ind-eac-model',\n",
    "                     'Image': \"{}.dkr.ecr.{}.amazonaws.com/{}:latest\".format(account, region, algorithm_name),\n",
    "                     'ModelDataUrl': ind_eac_model_url}\n",
    "\n",
    "xgboost_image_uri = sagemaker.image_uris.retrieve(\"xgboost\", region, \"1.7-1\")\n",
    "xgboost_model_url = 'https://innovation-dev-models.s3.eu-west-2.amazonaws.com/sagemaker-xgb/xgboost-training-job-2023-05-05-17-41-32-982/output/model.tar.gz'\n",
    "xgboost_container = {'ContainerHostname': 'xgboost-model',\n",
    "                     'Image': xgboost_image_uri,\n",
    "                     'ModelDataUrl': xgboost_model_url}                  \n"
   ]
  },
  {
   "cell_type": "code",
   "execution_count": 439,
   "id": "edbc5c68",
   "metadata": {},
   "outputs": [],
   "source": [
    "#multi_container_model_file_name = 'Synthetic-EAC-multi-container-'\n",
    "#multi_container_model_name = multi_container_model_file_name + strftime(\"%Y-%m-%d-%H-%M-%S\", gmtime())\n",
    "multi_container_model_name = 'Synthetic-EAC-multi-container'\n",
    "client = boto3.client(\"sagemaker\")\n",
    "create_model_response = client.create_model(ModelName=multi_container_model_name,\n",
    "                                            #PrimaryContainer=primary_container,\n",
    "                                            Containers=[ind_eac_container, xgboost_container],\n",
    "                                            InferenceExecutionConfig={'Mode': 'Direct'},\n",
    "                                            ExecutionRoleArn=role)"
   ]
  },
  {
   "cell_type": "code",
   "execution_count": 440,
   "id": "1133fa8a",
   "metadata": {},
   "outputs": [],
   "source": [
    "#multi_container_endpoint_config_name = 'Synthetic-EAC-multi-container-endpoint-config-' + strftime(\"%Y-%m-%d-%H-%M-%S\", gmtime())\n",
    "multi_container_endpoint_config_name = 'Synthetic-EAC-multi-container-endpoint-config'\n",
    "create_multi_container_endpoint_config_response = client.create_endpoint_config(EndpointConfigName=multi_container_endpoint_config_name,\n",
    "                                                ProductionVariants=[{#'VariantName': 'prod',\n",
    "                                                                     'VariantName': 'traffic-distribution-over-models',\n",
    "                                                                     'ModelName': multi_container_model_name,\n",
    "                                                                     'InstanceType': 'ml.m5.xlarge',\n",
    "                                                                     'InitialInstanceCount': 1,\n",
    "                                                                     'InitialVariantWeight': 1,\n",
    "                                                                    }] )"
   ]
  },
  {
   "cell_type": "code",
   "execution_count": 446,
   "id": "a6ca8a8e",
   "metadata": {},
   "outputs": [
    {
     "name": "stdout",
     "output_type": "stream",
     "text": [
      "arn:aws:sagemaker:eu-west-2:344511226304:endpoint/synthetic-eac-multi-container-endpoint-config\n",
      "Status: Creating\n",
      "Status: Creating\n",
      "Status: Creating\n",
      "Status: Creating\n",
      "Status: Creating\n",
      "Status: Creating\n",
      "Status: Creating\n",
      "Status: Creating\n",
      "Status: Creating\n",
      "Status: Creating\n",
      "Status: Creating\n",
      "Status: Creating\n",
      "Status: Creating\n",
      "Status: Creating\n",
      "Status: Creating\n",
      "Status: Creating\n",
      "Status: Creating\n",
      "Status: Failed\n",
      "Arn: arn:aws:sagemaker:eu-west-2:344511226304:endpoint/synthetic-eac-multi-container-endpoint-config\n",
      "Status: Failed\n"
     ]
    }
   ],
   "source": [
    "#multi_container_endpoint_name = 'Synthetic-EAC-multi-container-endpoint-config-' + strftime(\"%Y-%m-%d-%H-%M-%S\", gmtime())\n",
    "multi_container_endpoint_name = 'Synthetic-EAC-multi-container-endpoint-config'\n",
    "create_multi_container_endpoint_response = client.create_endpoint(EndpointName=multi_container_endpoint_name, \n",
    "                                                                  EndpointConfigName=multi_container_endpoint_config_name)\n",
    "print(create_multi_container_endpoint_response[\"EndpointArn\"])\n",
    "\n",
    "resp = client.describe_endpoint(EndpointName=multi_container_endpoint_name)\n",
    "status = resp[\"EndpointStatus\"]\n",
    "print(\"Status: \" + status)\n",
    "\n",
    "while status == \"Creating\":\n",
    "    time.sleep(60)\n",
    "    resp = client.describe_endpoint(EndpointName=multi_container_endpoint_name)\n",
    "    status = resp[\"EndpointStatus\"]\n",
    "    print(\"Status: \" + status)\n",
    "print(\"Arn: \" + resp[\"EndpointArn\"])\n",
    "print(\"Status: \" + status)"
   ]
  },
  {
   "cell_type": "code",
   "execution_count": null,
   "id": "f0970f94",
   "metadata": {},
   "outputs": [],
   "source": [
    "# create a user csv file for inference\n",
    "np.savetxt(\"test_point.csv\", df_sample_test.values[:10,1:], delimiter=\",\") \n",
    "with open(\"test_point.csv\", \"r\") as f:\n",
    "    payload = f.read().strip()"
   ]
  },
  {
   "cell_type": "code",
   "execution_count": null,
   "id": "42f643e6",
   "metadata": {},
   "outputs": [],
   "source": [
    "runtime_client = boto3.client(\"runtime.sagemaker\")\n",
    "xgboost_response = runtime_client.invoke_endpoint(EndpointName=multi_container_endpoint_name, \n",
    "                                          ContentType=\"text/csv\", \n",
    "                                          EndpointName=\"mnist-multi-container-ep\",\n",
    "                                          #ContentType=\"application/json\",\n",
    "                                          #Accept=\"application/json\",\n",
    "                                          #Body=json.dumps({\"instances\": np.expand_dims(tf_samples, 3).tolist()})\n",
    "                                          TargetContainerHostname=\"xgboost-model\",\n",
    "                                          #TargetModel=\"sagemaker-xgb.tar.gz\", \n",
    "                                          Body=payload)\n",
    "\n",
    "ind_eac_response = runtime_client.invoke_endpoint(EndpointName=multi_container_endpoint_name, \n",
    "                                          ContentType=\"text/csv\", \n",
    "                                          EndpointName=\"mnist-multi-container-ep\",\n",
    "                                          #ContentType=\"application/json\",\n",
    "                                          #Accept=\"application/json\",\n",
    "                                          #Body=json.dumps({\"inputs\": np.expand_dims(tf_samples, 3).tolist()})\n",
    "                                          TargetContainerHostname=\"ind-eac-model\",\n",
    "                                          #TargetModel=\"sagemaker-xgb.tar.gz\", \n",
    "                                          Body=payload)\n",
    "\n",
    "xgboost_results = xgboost_response[\"Body\"].read().decode(\"ascii\")\n",
    "ind_eac_results = ind_eac_response[\"Body\"].read().decode(\"ascii\")\n",
    "print(\"XGBoost predicted EAC: {}\".format(xgboost_results))\n",
    "print(\"Industry-version equation calculated EAC: {}\".format(ind_eac_results))"
   ]
  },
  {
   "cell_type": "code",
   "execution_count": 420,
   "id": "3d1d87ba",
   "metadata": {},
   "outputs": [],
   "source": []
  },
  {
   "cell_type": "markdown",
   "id": "2d8644cc",
   "metadata": {},
   "source": [
    "# deployment for multi-model case (obsoleted)\n",
    "#only works for model with same frameworks"
   ]
  },
  {
   "cell_type": "code",
   "execution_count": 40,
   "id": "6403b65e",
   "metadata": {},
   "outputs": [],
   "source": [
    "from sagemaker.multidatamodel import MultiDataModel"
   ]
  },
  {
   "cell_type": "code",
   "execution_count": null,
   "id": "a4c362af",
   "metadata": {},
   "outputs": [],
   "source": [
    "ind_eac_image_uri = '{}.dkr.ecr.{}.amazonaws.com/{}:latest'.format(account, region, algorithm_name)\n",
    "ind_eac_model_url = 'https://innovation-dev-models.s3.eu-west-2.amazonaws.com/multi-model/industry-version-eac-calculation/industry-version-eac-calculation-job-2023-05-18-15-14-12-706/output/model.tar.gz'\n",
    "ind_eac_container = {'ContainerHostname': 'ind-eac-model',\n",
    "                     'Image': \"{}.dkr.ecr.{}.amazonaws.com/{}:latest\".format(account, region, algorithm_name),\n",
    "                     'ModelDataUrl': ind_eac_model_url}\n",
    "\n",
    "xgboost_image_uri = sagemaker.image_uris.retrieve(\"xgboost\", region, \"1.7-1\")\n",
    "xgboost_model_url = 'https://innovation-dev-models.s3.eu-west-2.amazonaws.com/sagemaker-xgb/xgboost-training-job-2023-05-05-17-41-32-982/output/model.tar.gz'\n",
    "xgboost_container = {'ContainerHostname': 'xgboost-model',\n",
    "                     'Image': xgboost_image_uri,\n",
    "                     'ModelDataUrl': xgboost_model_url}  \n",
    "\n",
    "\n",
    "\n",
    "model_data_url='s3://innovation-dev-models/multi-model/'\n",
    "multi_model_container = {\"Image\": ind_eac_image_uri,\n",
    "             \"ModelDataUrl\": model_data_url, \n",
    "             \"Mode\": \"MultiModel\"}"
   ]
  },
  {
   "cell_type": "code",
   "execution_count": null,
   "id": "2730acc2",
   "metadata": {},
   "outputs": [],
   "source": [
    "multi_model_model_name = 'Synthetic-EAC-multi-model'\n",
    "create_model_response = client.create_model(ModelName=multi_model_model_name, \n",
    "                                            ExecutionRoleArn=role, \n",
    "                                            PrimaryContainer=multi_model_container)\n",
    "print(\"Model Arn: \" + create_model_response[\"ModelArn\"])"
   ]
  },
  {
   "cell_type": "code",
   "execution_count": null,
   "id": "236ea348",
   "metadata": {},
   "outputs": [],
   "source": [
    "multi_model_endpoint_config_name = 'Synthetic-EAC-multi-model-endpoint-config'\n",
    "create_multi_model_eendpoint_config_response = client.create_endpoint_config(EndpointConfigName=multi_model_endpoint_config_name,\n",
    "                                                                             ProductionVariants=[\n",
    "                                                                                 {\"InstanceType\": \"ml.m5.xlarge\",\n",
    "                                                                                  \"InitialVariantWeight\": 1,\n",
    "                                                                                  \"InitialInstanceCount\": 1,\n",
    "                                                                                  \"ModelName\": multi_model_model_name,\n",
    "                                                                                  \"VariantName\": \"AllTraffic\"}])\n",
    "print(\"Endpoint Config Arn: \" + create_endpoint_config_response[\"EndpointConfigArn\"])"
   ]
  },
  {
   "cell_type": "code",
   "execution_count": null,
   "id": "9fa143f4",
   "metadata": {},
   "outputs": [],
   "source": [
    "multi_model_endpoint_name = 'Synthetic-EAC-multi-container-endpoint-config'\n",
    "create_multi_model_endpoint_response = client.create_endpoint(EndpointName=multi_model_endpoint_name, \n",
    "                                                              EndpointConfigName=multi_model_endpoint_config_name)\n",
    "print(\"Endpoint Arn: \" + create_endpoint_response[\"EndpointArn\"])\n",
    "\n",
    "\n",
    "resp = client.describe_endpoint(EndpointName=multi_model_endpoint_name)\n",
    "status = resp[\"EndpointStatus\"]\n",
    "print(\"Status: \" + status)\n",
    "\n",
    "while status == \"Creating\":\n",
    "    time.sleep(60)\n",
    "    resp = client.describe_endpoint(EndpointName=multi_model_endpoint_name)\n",
    "    status = resp[\"EndpointStatus\"]\n",
    "    print(\"Status: \" + status)\n",
    "print(\"Arn: \" + resp[\"EndpointArn\"])\n",
    "print(\"Status: \" + status)"
   ]
  },
  {
   "cell_type": "code",
   "execution_count": 184,
   "id": "9201378f",
   "metadata": {},
   "outputs": [],
   "source": [
    "sagemaker_xgb = xgboost_estimator.create_model(role=role, image_uri=xgboost_container)\n",
    "endpoint_name = \"xgboost-endpoint-\" + strftime(\"%Y-%m-%d-%H-%M-%S\", gmtime())"
   ]
  },
  {
   "cell_type": "code",
   "execution_count": 190,
   "id": "3f7ca486",
   "metadata": {},
   "outputs": [
    {
     "name": "stderr",
     "output_type": "stream",
     "text": [
      "INFO:sagemaker:Creating model with name: sagemaker-xgboost2023-05-09-15-13-00\n",
      "INFO:sagemaker:Creating endpoint-config with name xgboost-endpoint-2023-05-09-16-08-43\n",
      "INFO:sagemaker:Creating endpoint with name xgboost-endpoint-2023-05-09-16-08-43\n"
     ]
    },
    {
     "name": "stdout",
     "output_type": "stream",
     "text": [
      "----!"
     ]
    }
   ],
   "source": [
    "mme = MultiDataModel(\n",
    "    name=model_name,\n",
    "    model_data_prefix=f's3://innovation-dev-models/multi-model/',\n",
    "    model=sagemaker_xgb,\n",
    "    sagemaker_session=sess\n",
    ")\n",
    "predictor = mme.deploy(\n",
    "    initial_instance_count=1, instance_type='ml.m5.xlarge', endpoint_name=endpoint_name\n",
    ")"
   ]
  },
  {
   "cell_type": "code",
   "execution_count": 194,
   "id": "9e2c9994",
   "metadata": {},
   "outputs": [
    {
     "data": {
      "text/plain": [
       "['', 'sagemaker-xgb.tar.gz']"
      ]
     },
     "execution_count": 194,
     "metadata": {},
     "output_type": "execute_result"
    }
   ],
   "source": [
    "list(mme.list_models())"
   ]
  },
  {
   "cell_type": "code",
   "execution_count": 192,
   "id": "dc22e0af",
   "metadata": {},
   "outputs": [
    {
     "data": {
      "text/plain": [
       "'s3://innovation-dev-models/multi-model/sagemaker-xgb.tar.gz'"
      ]
     },
     "execution_count": 192,
     "metadata": {},
     "output_type": "execute_result"
    }
   ],
   "source": [
    "artifact_path = xgboost_estimator.latest_training_job.describe()[\"ModelArtifacts\"][\"S3ModelArtifacts\"]\n",
    "model_name = artifact_path.split(\"/\")[-4] + \".tar.gz\"\n",
    "# This is copying over the model artifact to the S3 location for the MME.\n",
    "mme.add_model(model_data_source=artifact_path, model_data_path=model_name)"
   ]
  },
  {
   "cell_type": "code",
   "execution_count": 426,
   "id": "fc75fe3f",
   "metadata": {},
   "outputs": [],
   "source": []
  },
  {
   "cell_type": "markdown",
   "id": "8d501ef9",
   "metadata": {},
   "source": [
    "# batch transformation on S3 bucket data with trained model (obsolete)"
   ]
  },
  {
   "cell_type": "code",
   "execution_count": 22,
   "id": "a5ed4430",
   "metadata": {},
   "outputs": [],
   "source": [
    "# serialization and deserialization for mode handler to accept parquet format for batch transform jobs\n",
    "from io import BytesIO\n",
    "from typing import BinaryIO\n",
    "import pandas as pd\n",
    "from botocore.response import StreamingBody\n",
    "def input_fn(\n",
    "  serialized_input_data: StreamingBody,\n",
    "  content_type: str = \"application/x-parquet\",\n",
    ") -> pd.DataFrame:\n",
    "  \"\"\"Deserialize inputs\"\"\"\n",
    "  if content_type == \"application/x-parquet\":\n",
    "    data = BytesIO(serialized_input_data)\n",
    "    df = pd.read_parquet(data)\n",
    "    return df\n",
    "  else:\n",
    "    raise ValueError(\n",
    "      \"Expected `application/x-parquet`.\"\n",
    "    )\n",
    "\n",
    "def output_fn(output: pd.DataFrame, accept: str = \"application/x-parquet\") -> BinaryIO:\n",
    "  \"\"\"Model output handler\"\"\"\n",
    "  if accept == \"application/x-parquet\":\n",
    "    buffer = BytesIO()\n",
    "    output.to_parquet(buffer)\n",
    "    \n",
    "    return buffer.getvalue()\n",
    "  else:\n",
    "    raise Exception(\"Requested unsupported ContentType in Accept: \" + accept)\n"
   ]
  },
  {
   "cell_type": "code",
   "execution_count": 42,
   "id": "118b55a0",
   "metadata": {},
   "outputs": [
    {
     "name": "stderr",
     "output_type": "stream",
     "text": [
      "INFO:sagemaker:Creating model with name: xgboost-training-job-2023-05-04-09-57-27-635\n",
      "INFO:sagemaker:Creating transform job with name: xgboost-training-job-2023-05-04-09-57-28-324\n"
     ]
    },
    {
     "name": "stdout",
     "output_type": "stream",
     "text": [
      "..........................\u001b[34m[2023-05-04:10:01:44:INFO] No GPUs detected (normal if no gpus installed)\u001b[0m\n",
      "\u001b[34m[2023-05-04:10:01:44:INFO] No GPUs detected (normal if no gpus installed)\u001b[0m\n",
      "\u001b[34m[2023-05-04:10:01:44:INFO] nginx config: \u001b[0m\n",
      "\u001b[34mworker_processes auto;\u001b[0m\n",
      "\u001b[34mdaemon off;\u001b[0m\n",
      "\u001b[34mpid /tmp/nginx.pid;\u001b[0m\n",
      "\u001b[34merror_log  /dev/stderr;\u001b[0m\n",
      "\u001b[34mworker_rlimit_nofile 4096;\u001b[0m\n",
      "\u001b[34mevents {\n",
      "  worker_connections 2048;\u001b[0m\n",
      "\u001b[34m}\u001b[0m\n",
      "\u001b[35m[2023-05-04:10:01:44:INFO] No GPUs detected (normal if no gpus installed)\u001b[0m\n",
      "\u001b[35m[2023-05-04:10:01:44:INFO] No GPUs detected (normal if no gpus installed)\u001b[0m\n",
      "\u001b[35m[2023-05-04:10:01:44:INFO] nginx config: \u001b[0m\n",
      "\u001b[35mworker_processes auto;\u001b[0m\n",
      "\u001b[35mdaemon off;\u001b[0m\n",
      "\u001b[35mpid /tmp/nginx.pid;\u001b[0m\n",
      "\u001b[35merror_log  /dev/stderr;\u001b[0m\n",
      "\u001b[35mworker_rlimit_nofile 4096;\u001b[0m\n",
      "\u001b[35mevents {\n",
      "  worker_connections 2048;\u001b[0m\n",
      "\u001b[35m}\u001b[0m\n",
      "\u001b[34mhttp {\n",
      "  include /etc/nginx/mime.types;\n",
      "  default_type application/octet-stream;\n",
      "  access_log /dev/stdout combined;\n",
      "  upstream gunicorn {\n",
      "    server unix:/tmp/gunicorn.sock;\n",
      "  }\n",
      "  server {\n",
      "    listen 8080 deferred;\n",
      "    client_max_body_size 0;\n",
      "    keepalive_timeout 3;\n",
      "    location ~ ^/(ping|invocations|execution-parameters) {\n",
      "      proxy_set_header X-Forwarded-For $proxy_add_x_forwarded_for;\n",
      "      proxy_set_header Host $http_host;\n",
      "      proxy_redirect off;\n",
      "      proxy_read_timeout 60s;\n",
      "      proxy_pass http://gunicorn;\n",
      "    }\n",
      "    location / {\n",
      "      return 404 \"{}\";\n",
      "    }\n",
      "  }\u001b[0m\n",
      "\u001b[34m}\u001b[0m\n",
      "\u001b[34m[2023-05-04 10:01:44 +0000] [43] [INFO] Starting gunicorn 19.10.0\u001b[0m\n",
      "\u001b[34m[2023-05-04 10:01:44 +0000] [43] [INFO] Listening at: unix:/tmp/gunicorn.sock (43)\u001b[0m\n",
      "\u001b[34m[2023-05-04 10:01:44 +0000] [43] [INFO] Using worker: gevent\u001b[0m\n",
      "\u001b[34m/miniconda3/lib/python3.8/os.py:1023: RuntimeWarning: line buffering (buffering=1) isn't supported in binary mode, the default buffer size will be used\n",
      "  return io.open(fd, *args, **kwargs)\u001b[0m\n",
      "\u001b[34m[2023-05-04 10:01:44 +0000] [61] [INFO] Booting worker with pid: 61\u001b[0m\n",
      "\u001b[34m[2023-05-04 10:01:44 +0000] [62] [INFO] Booting worker with pid: 62\u001b[0m\n",
      "\u001b[34m[2023-05-04 10:01:44 +0000] [63] [INFO] Booting worker with pid: 63\u001b[0m\n",
      "\u001b[34m[2023-05-04 10:01:44 +0000] [64] [INFO] Booting worker with pid: 64\u001b[0m\n",
      "\u001b[34m[2023-05-04 10:01:44 +0000] [65] [INFO] Booting worker with pid: 65\u001b[0m\n",
      "\u001b[34m[2023-05-04 10:01:44 +0000] [66] [INFO] Booting worker with pid: 66\u001b[0m\n",
      "\u001b[34m[2023-05-04 10:01:44 +0000] [67] [INFO] Booting worker with pid: 67\u001b[0m\n",
      "\u001b[34m[2023-05-04 10:01:44 +0000] [68] [INFO] Booting worker with pid: 68\u001b[0m\n",
      "\u001b[34m[2023-05-04 10:01:44 +0000] [69] [INFO] Booting worker with pid: 69\u001b[0m\n",
      "\u001b[34m[2023-05-04 10:01:44 +0000] [70] [INFO] Booting worker with pid: 70\u001b[0m\n",
      "\u001b[34m[2023-05-04 10:01:44 +0000] [71] [INFO] Booting worker with pid: 71\u001b[0m\n",
      "\u001b[34m[2023-05-04 10:01:45 +0000] [72] [INFO] Booting worker with pid: 72\u001b[0m\n",
      "\u001b[34m[2023-05-04 10:01:45 +0000] [73] [INFO] Booting worker with pid: 73\u001b[0m\n",
      "\u001b[34m[2023-05-04 10:01:45 +0000] [74] [INFO] Booting worker with pid: 74\u001b[0m\n",
      "\u001b[35mhttp {\n",
      "  include /etc/nginx/mime.types;\n",
      "  default_type application/octet-stream;\n",
      "  access_log /dev/stdout combined;\n",
      "  upstream gunicorn {\n",
      "    server unix:/tmp/gunicorn.sock;\n",
      "  }\n",
      "  server {\n",
      "    listen 8080 deferred;\n",
      "    client_max_body_size 0;\n",
      "    keepalive_timeout 3;\n",
      "    location ~ ^/(ping|invocations|execution-parameters) {\n",
      "      proxy_set_header X-Forwarded-For $proxy_add_x_forwarded_for;\n",
      "      proxy_set_header Host $http_host;\n",
      "      proxy_redirect off;\n",
      "      proxy_read_timeout 60s;\n",
      "      proxy_pass http://gunicorn;\n",
      "    }\n",
      "    location / {\n",
      "      return 404 \"{}\";\n",
      "    }\n",
      "  }\u001b[0m\n",
      "\u001b[35m}\u001b[0m\n",
      "\u001b[35m[2023-05-04 10:01:44 +0000] [43] [INFO] Starting gunicorn 19.10.0\u001b[0m\n",
      "\u001b[35m[2023-05-04 10:01:44 +0000] [43] [INFO] Listening at: unix:/tmp/gunicorn.sock (43)\u001b[0m\n",
      "\u001b[35m[2023-05-04 10:01:44 +0000] [43] [INFO] Using worker: gevent\u001b[0m\n",
      "\u001b[35m/miniconda3/lib/python3.8/os.py:1023: RuntimeWarning: line buffering (buffering=1) isn't supported in binary mode, the default buffer size will be used\n",
      "  return io.open(fd, *args, **kwargs)\u001b[0m\n",
      "\u001b[35m[2023-05-04 10:01:44 +0000] [61] [INFO] Booting worker with pid: 61\u001b[0m\n",
      "\u001b[35m[2023-05-04 10:01:44 +0000] [62] [INFO] Booting worker with pid: 62\u001b[0m\n",
      "\u001b[35m[2023-05-04 10:01:44 +0000] [63] [INFO] Booting worker with pid: 63\u001b[0m\n",
      "\u001b[35m[2023-05-04 10:01:44 +0000] [64] [INFO] Booting worker with pid: 64\u001b[0m\n",
      "\u001b[35m[2023-05-04 10:01:44 +0000] [65] [INFO] Booting worker with pid: 65\u001b[0m\n",
      "\u001b[35m[2023-05-04 10:01:44 +0000] [66] [INFO] Booting worker with pid: 66\u001b[0m\n",
      "\u001b[35m[2023-05-04 10:01:44 +0000] [67] [INFO] Booting worker with pid: 67\u001b[0m\n",
      "\u001b[35m[2023-05-04 10:01:44 +0000] [68] [INFO] Booting worker with pid: 68\u001b[0m\n",
      "\u001b[35m[2023-05-04 10:01:44 +0000] [69] [INFO] Booting worker with pid: 69\u001b[0m\n",
      "\u001b[35m[2023-05-04 10:01:44 +0000] [70] [INFO] Booting worker with pid: 70\u001b[0m\n",
      "\u001b[35m[2023-05-04 10:01:44 +0000] [71] [INFO] Booting worker with pid: 71\u001b[0m\n",
      "\u001b[35m[2023-05-04 10:01:45 +0000] [72] [INFO] Booting worker with pid: 72\u001b[0m\n",
      "\u001b[35m[2023-05-04 10:01:45 +0000] [73] [INFO] Booting worker with pid: 73\u001b[0m\n",
      "\u001b[35m[2023-05-04 10:01:45 +0000] [74] [INFO] Booting worker with pid: 74\u001b[0m\n",
      "\u001b[34m[2023-05-04 10:01:45 +0000] [76] [INFO] Booting worker with pid: 76\u001b[0m\n",
      "\u001b[34m[2023-05-04 10:01:45 +0000] [79] [INFO] Booting worker with pid: 79\u001b[0m\n",
      "\u001b[34m[2023-05-04:10:01:45:INFO] No GPUs detected (normal if no gpus installed)\u001b[0m\n",
      "\u001b[34m[2023-05-04:10:01:45:INFO] Loading the model from /opt/ml/model/xgboost-model\u001b[0m\n",
      "\u001b[34m[2023-05-04:10:01:45:INFO] Model objective : reg:squarederror\u001b[0m\n",
      "\u001b[34m[2023-05-04:10:01:46:INFO] No GPUs detected (normal if no gpus installed)\u001b[0m\n",
      "\u001b[34m[2023-05-04:10:01:46:INFO] Loading the model from /opt/ml/model/xgboost-model\u001b[0m\n",
      "\u001b[34m[2023-05-04:10:01:46:INFO] Model objective : reg:squarederror\u001b[0m\n",
      "\u001b[34m[2023-05-04:10:01:46:INFO] No GPUs detected (normal if no gpus installed)\u001b[0m\n",
      "\u001b[34m[2023-05-04:10:01:46:INFO] Loading the model from /opt/ml/model/xgboost-model\u001b[0m\n",
      "\u001b[34m[2023-05-04:10:01:46:INFO] Model objective : reg:squarederror\u001b[0m\n",
      "\u001b[34m[2023-05-04:10:01:46:INFO] No GPUs detected (normal if no gpus installed)\u001b[0m\n",
      "\u001b[34m[2023-05-04:10:01:46:INFO] Loading the model from /opt/ml/model/xgboost-model\u001b[0m\n",
      "\u001b[34m[2023-05-04:10:01:46:INFO] Model objective : reg:squarederror\u001b[0m\n",
      "\u001b[34m[2023-05-04:10:01:46:INFO] No GPUs detected (normal if no gpus installed)\u001b[0m\n",
      "\u001b[34m[2023-05-04:10:01:46:INFO] Loading the model from /opt/ml/model/xgboost-model\u001b[0m\n",
      "\u001b[34m[2023-05-04:10:01:46:INFO] Model objective : reg:squarederror\u001b[0m\n",
      "\u001b[35m[2023-05-04 10:01:45 +0000] [76] [INFO] Booting worker with pid: 76\u001b[0m\n",
      "\u001b[35m[2023-05-04 10:01:45 +0000] [79] [INFO] Booting worker with pid: 79\u001b[0m\n",
      "\u001b[35m[2023-05-04:10:01:45:INFO] No GPUs detected (normal if no gpus installed)\u001b[0m\n",
      "\u001b[35m[2023-05-04:10:01:45:INFO] Loading the model from /opt/ml/model/xgboost-model\u001b[0m\n",
      "\u001b[35m[2023-05-04:10:01:45:INFO] Model objective : reg:squarederror\u001b[0m\n",
      "\u001b[35m[2023-05-04:10:01:46:INFO] No GPUs detected (normal if no gpus installed)\u001b[0m\n",
      "\u001b[35m[2023-05-04:10:01:46:INFO] Loading the model from /opt/ml/model/xgboost-model\u001b[0m\n",
      "\u001b[35m[2023-05-04:10:01:46:INFO] Model objective : reg:squarederror\u001b[0m\n",
      "\u001b[35m[2023-05-04:10:01:46:INFO] No GPUs detected (normal if no gpus installed)\u001b[0m\n",
      "\u001b[35m[2023-05-04:10:01:46:INFO] Loading the model from /opt/ml/model/xgboost-model\u001b[0m\n",
      "\u001b[35m[2023-05-04:10:01:46:INFO] Model objective : reg:squarederror\u001b[0m\n",
      "\u001b[35m[2023-05-04:10:01:46:INFO] No GPUs detected (normal if no gpus installed)\u001b[0m\n",
      "\u001b[35m[2023-05-04:10:01:46:INFO] Loading the model from /opt/ml/model/xgboost-model\u001b[0m\n",
      "\u001b[35m[2023-05-04:10:01:46:INFO] Model objective : reg:squarederror\u001b[0m\n",
      "\u001b[35m[2023-05-04:10:01:46:INFO] No GPUs detected (normal if no gpus installed)\u001b[0m\n",
      "\u001b[35m[2023-05-04:10:01:46:INFO] Loading the model from /opt/ml/model/xgboost-model\u001b[0m\n",
      "\u001b[35m[2023-05-04:10:01:46:INFO] Model objective : reg:squarederror\u001b[0m\n",
      "\u001b[34m[2023-05-04:10:01:46:INFO] No GPUs detected (normal if no gpus installed)\u001b[0m\n",
      "\u001b[34m[2023-05-04:10:01:46:INFO] Loading the model from /opt/ml/model/xgboost-model\u001b[0m\n",
      "\u001b[34m[2023-05-04:10:01:46:INFO] No GPUs detected (normal if no gpus installed)\u001b[0m\n",
      "\u001b[34m[2023-05-04:10:01:46:INFO] Loading the model from /opt/ml/model/xgboost-model\u001b[0m\n",
      "\u001b[34m[2023-05-04:10:01:46:INFO] Model objective : reg:squarederror\u001b[0m\n",
      "\u001b[34m[2023-05-04:10:01:46:INFO] Model objective : reg:squarederror\u001b[0m\n",
      "\u001b[34m[2023-05-04:10:01:46:INFO] No GPUs detected (normal if no gpus installed)\u001b[0m\n",
      "\u001b[34m[2023-05-04:10:01:46:INFO] Loading the model from /opt/ml/model/xgboost-model\u001b[0m\n",
      "\u001b[34m[2023-05-04:10:01:46:INFO] Model objective : reg:squarederror\u001b[0m\n",
      "\u001b[34m[2023-05-04:10:01:46:INFO] No GPUs detected (normal if no gpus installed)\u001b[0m\n",
      "\u001b[34m[2023-05-04:10:01:46:INFO] Loading the model from /opt/ml/model/xgboost-model\u001b[0m\n",
      "\u001b[34m[2023-05-04:10:01:46:INFO] Model objective : reg:squarederror\u001b[0m\n",
      "\u001b[34m[2023-05-04:10:01:46:INFO] No GPUs detected (normal if no gpus installed)\u001b[0m\n",
      "\u001b[34m[2023-05-04:10:01:46:INFO] Loading the model from /opt/ml/model/xgboost-model\u001b[0m\n",
      "\u001b[34m[2023-05-04:10:01:46:INFO] Model objective : reg:squarederror\u001b[0m\n",
      "\u001b[34m[2023-05-04:10:01:46:INFO] No GPUs detected (normal if no gpus installed)\u001b[0m\n",
      "\u001b[34m[2023-05-04:10:01:46:INFO] Loading the model from /opt/ml/model/xgboost-model\u001b[0m\n",
      "\u001b[34m[2023-05-04:10:01:46:INFO] No GPUs detected (normal if no gpus installed)\u001b[0m\n",
      "\u001b[34m[2023-05-04:10:01:46:INFO] Loading the model from /opt/ml/model/xgboost-model\u001b[0m\n",
      "\u001b[34m[2023-05-04:10:01:46:INFO] Model objective : reg:squarederror\u001b[0m\n",
      "\u001b[34m[2023-05-04:10:01:46:INFO] Model objective : reg:squarederror\u001b[0m\n",
      "\u001b[34m[2023-05-04:10:01:46:INFO] No GPUs detected (normal if no gpus installed)\u001b[0m\n",
      "\u001b[34m[2023-05-04:10:01:46:INFO] Loading the model from /opt/ml/model/xgboost-model\u001b[0m\n",
      "\u001b[34m[2023-05-04:10:01:46:INFO] Model objective : reg:squarederror\u001b[0m\n",
      "\u001b[34m[2023-05-04:10:01:46:INFO] No GPUs detected (normal if no gpus installed)\u001b[0m\n",
      "\u001b[34m[2023-05-04:10:01:46:INFO] Loading the model from /opt/ml/model/xgboost-model\u001b[0m\n",
      "\u001b[34m[2023-05-04:10:01:46:INFO] Model objective : reg:squarederror\u001b[0m\n",
      "\u001b[34m[2023-05-04:10:01:46:INFO] No GPUs detected (normal if no gpus installed)\u001b[0m\n",
      "\u001b[34m[2023-05-04:10:01:46:INFO] Loading the model from /opt/ml/model/xgboost-model\u001b[0m\n",
      "\u001b[34m[2023-05-04:10:01:46:INFO] Model objective : reg:squarederror\u001b[0m\n",
      "\u001b[34m[2023-05-04:10:01:46:INFO] No GPUs detected (normal if no gpus installed)\u001b[0m\n",
      "\u001b[34m[2023-05-04:10:01:46:INFO] Loading the model from /opt/ml/model/xgboost-model\u001b[0m\n",
      "\u001b[34m[2023-05-04:10:01:46:INFO] Model objective : reg:squarederror\u001b[0m\n",
      "\u001b[35m[2023-05-04:10:01:46:INFO] No GPUs detected (normal if no gpus installed)\u001b[0m\n",
      "\u001b[35m[2023-05-04:10:01:46:INFO] Loading the model from /opt/ml/model/xgboost-model\u001b[0m\n",
      "\u001b[35m[2023-05-04:10:01:46:INFO] No GPUs detected (normal if no gpus installed)\u001b[0m\n",
      "\u001b[35m[2023-05-04:10:01:46:INFO] Loading the model from /opt/ml/model/xgboost-model\u001b[0m\n",
      "\u001b[35m[2023-05-04:10:01:46:INFO] Model objective : reg:squarederror\u001b[0m\n",
      "\u001b[35m[2023-05-04:10:01:46:INFO] Model objective : reg:squarederror\u001b[0m\n",
      "\u001b[35m[2023-05-04:10:01:46:INFO] No GPUs detected (normal if no gpus installed)\u001b[0m\n",
      "\u001b[35m[2023-05-04:10:01:46:INFO] Loading the model from /opt/ml/model/xgboost-model\u001b[0m\n",
      "\u001b[35m[2023-05-04:10:01:46:INFO] Model objective : reg:squarederror\u001b[0m\n",
      "\u001b[35m[2023-05-04:10:01:46:INFO] No GPUs detected (normal if no gpus installed)\u001b[0m\n",
      "\u001b[35m[2023-05-04:10:01:46:INFO] Loading the model from /opt/ml/model/xgboost-model\u001b[0m\n",
      "\u001b[35m[2023-05-04:10:01:46:INFO] Model objective : reg:squarederror\u001b[0m\n",
      "\u001b[35m[2023-05-04:10:01:46:INFO] No GPUs detected (normal if no gpus installed)\u001b[0m\n",
      "\u001b[35m[2023-05-04:10:01:46:INFO] Loading the model from /opt/ml/model/xgboost-model\u001b[0m\n",
      "\u001b[35m[2023-05-04:10:01:46:INFO] Model objective : reg:squarederror\u001b[0m\n",
      "\u001b[35m[2023-05-04:10:01:46:INFO] No GPUs detected (normal if no gpus installed)\u001b[0m\n",
      "\u001b[35m[2023-05-04:10:01:46:INFO] Loading the model from /opt/ml/model/xgboost-model\u001b[0m\n",
      "\u001b[35m[2023-05-04:10:01:46:INFO] No GPUs detected (normal if no gpus installed)\u001b[0m\n",
      "\u001b[35m[2023-05-04:10:01:46:INFO] Loading the model from /opt/ml/model/xgboost-model\u001b[0m\n",
      "\u001b[35m[2023-05-04:10:01:46:INFO] Model objective : reg:squarederror\u001b[0m\n",
      "\u001b[35m[2023-05-04:10:01:46:INFO] Model objective : reg:squarederror\u001b[0m\n",
      "\u001b[35m[2023-05-04:10:01:46:INFO] No GPUs detected (normal if no gpus installed)\u001b[0m\n",
      "\u001b[35m[2023-05-04:10:01:46:INFO] Loading the model from /opt/ml/model/xgboost-model\u001b[0m\n",
      "\u001b[35m[2023-05-04:10:01:46:INFO] Model objective : reg:squarederror\u001b[0m\n",
      "\u001b[35m[2023-05-04:10:01:46:INFO] No GPUs detected (normal if no gpus installed)\u001b[0m\n",
      "\u001b[35m[2023-05-04:10:01:46:INFO] Loading the model from /opt/ml/model/xgboost-model\u001b[0m\n",
      "\u001b[35m[2023-05-04:10:01:46:INFO] Model objective : reg:squarederror\u001b[0m\n",
      "\u001b[35m[2023-05-04:10:01:46:INFO] No GPUs detected (normal if no gpus installed)\u001b[0m\n",
      "\u001b[35m[2023-05-04:10:01:46:INFO] Loading the model from /opt/ml/model/xgboost-model\u001b[0m\n",
      "\u001b[35m[2023-05-04:10:01:46:INFO] Model objective : reg:squarederror\u001b[0m\n",
      "\u001b[35m[2023-05-04:10:01:46:INFO] No GPUs detected (normal if no gpus installed)\u001b[0m\n",
      "\u001b[35m[2023-05-04:10:01:46:INFO] Loading the model from /opt/ml/model/xgboost-model\u001b[0m\n",
      "\u001b[35m[2023-05-04:10:01:46:INFO] Model objective : reg:squarederror\u001b[0m\n",
      "\u001b[34m[2023-05-04:10:01:48:INFO] No GPUs detected (normal if no gpus installed)\u001b[0m\n",
      "\u001b[34m169.254.255.130 - - [04/May/2023:10:01:48 +0000] \"GET /ping HTTP/1.1\" 200 0 \"-\" \"Go-http-client/1.1\"\u001b[0m\n",
      "\u001b[34m[2023-05-04:10:01:48:INFO] No GPUs detected (normal if no gpus installed)\u001b[0m\n",
      "\u001b[34m169.254.255.130 - - [04/May/2023:10:01:48 +0000] \"GET /execution-parameters HTTP/1.1\" 200 85 \"-\" \"Go-http-client/1.1\"\u001b[0m\n",
      "\u001b[35m[2023-05-04:10:01:48:INFO] No GPUs detected (normal if no gpus installed)\u001b[0m\n",
      "\u001b[35m169.254.255.130 - - [04/May/2023:10:01:48 +0000] \"GET /ping HTTP/1.1\" 200 0 \"-\" \"Go-http-client/1.1\"\u001b[0m\n",
      "\u001b[35m[2023-05-04:10:01:48:INFO] No GPUs detected (normal if no gpus installed)\u001b[0m\n",
      "\u001b[35m169.254.255.130 - - [04/May/2023:10:01:48 +0000] \"GET /execution-parameters HTTP/1.1\" 200 85 \"-\" \"Go-http-client/1.1\"\u001b[0m\n",
      "\u001b[32m2023-05-04T10:01:48.501:[sagemaker logs]: MaxConcurrentTransforms=16, MaxPayloadInMB=6, BatchStrategy=MULTI_RECORD\u001b[0m\n",
      "\u001b[32m2023-05-04T10:01:49.789:[sagemaker logs]: innovation-dev-athena-results/tables/bacth transformation/db716314-24db-4b3f-9401-65db2c6edb6d/20230503_164337_00022_4nnk3_0697bbaf-9fc1-46e9-88f1-22eaafc4beaf: Too much data for max payload size\u001b[0m\n",
      "\u001b[32m2023-05-04T10:01:50.173:[sagemaker logs]: innovation-dev-athena-results/tables/bacth transformation/db716314-24db-4b3f-9401-65db2c6edb6d/20230503_164337_00022_4nnk3_0c708470-2129-42c4-91e5-a3fe0656dfc4: Too much data for max payload size\u001b[0m\n",
      "\u001b[32m2023-05-04T10:01:50.462:[sagemaker logs]: innovation-dev-athena-results/tables/bacth transformation/db716314-24db-4b3f-9401-65db2c6edb6d/20230503_164337_00022_4nnk3_0c8cd909-75b7-4964-8a7f-067b4480a791: Too much data for max payload size\u001b[0m\n",
      "\u001b[32m2023-05-04T10:01:50.785:[sagemaker logs]: innovation-dev-athena-results/tables/bacth transformation/db716314-24db-4b3f-9401-65db2c6edb6d/20230503_164337_00022_4nnk3_1bfb5b29-3b3c-438e-b2ef-2436c173ef60: Too much data for max payload size\u001b[0m\n",
      "\u001b[32m2023-05-04T10:01:51.119:[sagemaker logs]: innovation-dev-athena-results/tables/bacth transformation/db716314-24db-4b3f-9401-65db2c6edb6d/20230503_164337_00022_4nnk3_248d8b8e-12b3-42a6-830a-860eaed13b2e: Too much data for max payload size\u001b[0m\n",
      "\u001b[32m2023-05-04T10:01:51.392:[sagemaker logs]: innovation-dev-athena-results/tables/bacth transformation/db716314-24db-4b3f-9401-65db2c6edb6d/20230503_164337_00022_4nnk3_252d6af1-e49d-4647-8cee-cb41a86d2605: Too much data for max payload size\u001b[0m\n",
      "\u001b[32m2023-05-04T10:01:51.793:[sagemaker logs]: innovation-dev-athena-results/tables/bacth transformation/db716314-24db-4b3f-9401-65db2c6edb6d/20230503_164337_00022_4nnk3_2cc84c8b-f9d6-4388-9d9b-b379ca693260: Too much data for max payload size\u001b[0m\n",
      "\u001b[32m2023-05-04T10:01:52.098:[sagemaker logs]: innovation-dev-athena-results/tables/bacth transformation/db716314-24db-4b3f-9401-65db2c6edb6d/20230503_164337_00022_4nnk3_2cf59f1c-3f39-475c-bc99-b44ade276057: Too much data for max payload size\u001b[0m\n",
      "\u001b[32m2023-05-04T10:01:52.439:[sagemaker logs]: innovation-dev-athena-results/tables/bacth transformation/db716314-24db-4b3f-9401-65db2c6edb6d/20230503_164337_00022_4nnk3_32649b65-9db1-4a20-98c1-a87e556e1ade: Too much data for max payload size\u001b[0m\n",
      "\u001b[32m2023-05-04T10:01:52.769:[sagemaker logs]: innovation-dev-athena-results/tables/bacth transformation/db716314-24db-4b3f-9401-65db2c6edb6d/20230503_164337_00022_4nnk3_3285556d-3839-4c0a-98d9-b1613bfc28f1: Too much data for max payload size\u001b[0m\n",
      "\u001b[32m2023-05-04T10:01:53.048:[sagemaker logs]: innovation-dev-athena-results/tables/bacth transformation/db716314-24db-4b3f-9401-65db2c6edb6d/20230503_164337_00022_4nnk3_3753a899-fd9c-4084-b244-d58f0d0dc822: Too much data for max payload size\u001b[0m\n",
      "\u001b[32m2023-05-04T10:01:53.549:[sagemaker logs]: innovation-dev-athena-results/tables/bacth transformation/db716314-24db-4b3f-9401-65db2c6edb6d/20230503_164337_00022_4nnk3_3a97077b-e776-4a8f-91ae-ed90fe3dda4d: Too much data for max payload size\u001b[0m\n",
      "\u001b[32m2023-05-04T10:01:54.041:[sagemaker logs]: innovation-dev-athena-results/tables/bacth transformation/db716314-24db-4b3f-9401-65db2c6edb6d/20230503_164337_00022_4nnk3_40b4f583-0428-4a50-8de2-1cd40dd83b78: Too much data for max payload size\u001b[0m\n",
      "\u001b[32m2023-05-04T10:01:54.370:[sagemaker logs]: innovation-dev-athena-results/tables/bacth transformation/db716314-24db-4b3f-9401-65db2c6edb6d/20230503_164337_00022_4nnk3_47d8322c-228e-4222-96ae-3237864217d3: Too much data for max payload size\u001b[0m\n",
      "\u001b[32m2023-05-04T10:01:55.071:[sagemaker logs]: innovation-dev-athena-results/tables/bacth transformation/db716314-24db-4b3f-9401-65db2c6edb6d/20230503_164337_00022_4nnk3_645d1c29-e929-401b-917a-46ed4c391735: Too much data for max payload size\u001b[0m\n",
      "\n",
      "\u001b[32m2023-05-04T10:01:55.257:[sagemaker logs]: innovation-dev-athena-results/tables/bacth transformation/db716314-24db-4b3f-9401-65db2c6edb6d/20230503_164337_00022_4nnk3_7a25c73a-6c7e-4615-a1e2-ca00e5b64643: Too much data for max payload size\u001b[0m\n",
      "\u001b[32m2023-05-04T10:01:55.654:[sagemaker logs]: innovation-dev-athena-results/tables/bacth transformation/db716314-24db-4b3f-9401-65db2c6edb6d/20230503_164337_00022_4nnk3_8e84678c-c062-4bca-8adc-3f222c030042: Too much data for max payload size\u001b[0m\n",
      "\u001b[32m2023-05-04T10:01:55.933:[sagemaker logs]: innovation-dev-athena-results/tables/bacth transformation/db716314-24db-4b3f-9401-65db2c6edb6d/20230503_164337_00022_4nnk3_9286bc90-5897-4b74-8813-93a90da83750: Too much data for max payload size\u001b[0m\n",
      "\u001b[32m2023-05-04T10:01:56.510:[sagemaker logs]: innovation-dev-athena-results/tables/bacth transformation/db716314-24db-4b3f-9401-65db2c6edb6d/20230503_164337_00022_4nnk3_ad395454-c73a-4e39-8425-08d359192123: Too much data for max payload size\u001b[0m\n",
      "\u001b[32m2023-05-04T10:01:56.781:[sagemaker logs]: innovation-dev-athena-results/tables/bacth transformation/db716314-24db-4b3f-9401-65db2c6edb6d/20230503_164337_00022_4nnk3_cb30a437-205e-4d06-9e08-4b1181afa96c: Too much data for max payload size\u001b[0m\n",
      "\u001b[32m2023-05-04T10:01:57.099:[sagemaker logs]: innovation-dev-athena-results/tables/bacth transformation/db716314-24db-4b3f-9401-65db2c6edb6d/20230503_164337_00022_4nnk3_d0030146-8997-4617-b8b0-e61107386b66: Too much data for max payload size\u001b[0m\n",
      "\u001b[32m2023-05-04T10:01:57.435:[sagemaker logs]: innovation-dev-athena-results/tables/bacth transformation/db716314-24db-4b3f-9401-65db2c6edb6d/20230503_164337_00022_4nnk3_ff510242-0470-4110-b771-093583b8a572: Too much data for max payload size\u001b[0m\n"
     ]
    },
    {
     "ename": "UnexpectedStatusException",
     "evalue": "Error for Transform job xgboost-training-job-2023-05-04-09-57-28-324: Failed. Reason: ClientError: See job logs for more information",
     "output_type": "error",
     "traceback": [
      "\u001b[0;31m---------------------------------------------------------------------------\u001b[0m",
      "\u001b[0;31mUnexpectedStatusException\u001b[0m                 Traceback (most recent call last)",
      "\u001b[0;32m/tmp/ipykernel_13487/1548602590.py\u001b[0m in \u001b[0;36m<cell line: 11>\u001b[0;34m()\u001b[0m\n\u001b[1;32m      9\u001b[0m \u001b[0;34m\u001b[0m\u001b[0m\n\u001b[1;32m     10\u001b[0m \u001b[0;31m# calls that object's transform method to create a transform job\u001b[0m\u001b[0;34m\u001b[0m\u001b[0;34m\u001b[0m\u001b[0m\n\u001b[0;32m---> 11\u001b[0;31m \u001b[0mxgboost_transformer\u001b[0m\u001b[0;34m.\u001b[0m\u001b[0mtransform\u001b[0m\u001b[0;34m(\u001b[0m\u001b[0mdata\u001b[0m\u001b[0;34m=\u001b[0m\u001b[0mbatch_input_path\u001b[0m\u001b[0;34m,\u001b[0m \u001b[0mcontent_type\u001b[0m\u001b[0;34m=\u001b[0m\u001b[0;34m'application/x-parquet'\u001b[0m\u001b[0;34m)\u001b[0m\u001b[0;34m\u001b[0m\u001b[0;34m\u001b[0m\u001b[0m\n\u001b[0m\u001b[1;32m     12\u001b[0m \u001b[0mtransformer\u001b[0m\u001b[0;34m.\u001b[0m\u001b[0mwait\u001b[0m\u001b[0;34m(\u001b[0m\u001b[0;34m)\u001b[0m\u001b[0;34m\u001b[0m\u001b[0;34m\u001b[0m\u001b[0m\n\u001b[1;32m     13\u001b[0m \u001b[0;34m\u001b[0m\u001b[0m\n",
      "\u001b[0;32m~/anaconda3/envs/pytorch_p39/lib/python3.9/site-packages/sagemaker/workflow/pipeline_context.py\u001b[0m in \u001b[0;36mwrapper\u001b[0;34m(*args, **kwargs)\u001b[0m\n\u001b[1;32m    282\u001b[0m             \u001b[0;32mreturn\u001b[0m \u001b[0m_StepArguments\u001b[0m\u001b[0;34m(\u001b[0m\u001b[0mretrieve_caller_name\u001b[0m\u001b[0;34m(\u001b[0m\u001b[0mself_instance\u001b[0m\u001b[0;34m)\u001b[0m\u001b[0;34m,\u001b[0m \u001b[0mrun_func\u001b[0m\u001b[0;34m,\u001b[0m \u001b[0;34m*\u001b[0m\u001b[0margs\u001b[0m\u001b[0;34m,\u001b[0m \u001b[0;34m**\u001b[0m\u001b[0mkwargs\u001b[0m\u001b[0;34m)\u001b[0m\u001b[0;34m\u001b[0m\u001b[0;34m\u001b[0m\u001b[0m\n\u001b[1;32m    283\u001b[0m \u001b[0;34m\u001b[0m\u001b[0m\n\u001b[0;32m--> 284\u001b[0;31m         \u001b[0;32mreturn\u001b[0m \u001b[0mrun_func\u001b[0m\u001b[0;34m(\u001b[0m\u001b[0;34m*\u001b[0m\u001b[0margs\u001b[0m\u001b[0;34m,\u001b[0m \u001b[0;34m**\u001b[0m\u001b[0mkwargs\u001b[0m\u001b[0;34m)\u001b[0m\u001b[0;34m\u001b[0m\u001b[0;34m\u001b[0m\u001b[0m\n\u001b[0m\u001b[1;32m    285\u001b[0m \u001b[0;34m\u001b[0m\u001b[0m\n\u001b[1;32m    286\u001b[0m     \u001b[0;32mreturn\u001b[0m \u001b[0mwrapper\u001b[0m\u001b[0;34m\u001b[0m\u001b[0;34m\u001b[0m\u001b[0m\n",
      "\u001b[0;32m~/anaconda3/envs/pytorch_p39/lib/python3.9/site-packages/sagemaker/transformer.py\u001b[0m in \u001b[0;36mtransform\u001b[0;34m(self, data, data_type, content_type, compression_type, split_type, job_name, input_filter, output_filter, join_source, experiment_config, model_client_config, batch_data_capture_config, wait, logs)\u001b[0m\n\u001b[1;32m    298\u001b[0m \u001b[0;34m\u001b[0m\u001b[0m\n\u001b[1;32m    299\u001b[0m         \u001b[0;32mif\u001b[0m \u001b[0mwait\u001b[0m\u001b[0;34m:\u001b[0m\u001b[0;34m\u001b[0m\u001b[0;34m\u001b[0m\u001b[0m\n\u001b[0;32m--> 300\u001b[0;31m             \u001b[0mself\u001b[0m\u001b[0;34m.\u001b[0m\u001b[0mlatest_transform_job\u001b[0m\u001b[0;34m.\u001b[0m\u001b[0mwait\u001b[0m\u001b[0;34m(\u001b[0m\u001b[0mlogs\u001b[0m\u001b[0;34m=\u001b[0m\u001b[0mlogs\u001b[0m\u001b[0;34m)\u001b[0m\u001b[0;34m\u001b[0m\u001b[0;34m\u001b[0m\u001b[0m\n\u001b[0m\u001b[1;32m    301\u001b[0m \u001b[0;34m\u001b[0m\u001b[0m\n\u001b[1;32m    302\u001b[0m     def transform_with_monitoring(\n",
      "\u001b[0;32m~/anaconda3/envs/pytorch_p39/lib/python3.9/site-packages/sagemaker/transformer.py\u001b[0m in \u001b[0;36mwait\u001b[0;34m(self, logs)\u001b[0m\n\u001b[1;32m    665\u001b[0m     \u001b[0;32mdef\u001b[0m \u001b[0mwait\u001b[0m\u001b[0;34m(\u001b[0m\u001b[0mself\u001b[0m\u001b[0;34m,\u001b[0m \u001b[0mlogs\u001b[0m\u001b[0;34m=\u001b[0m\u001b[0;32mTrue\u001b[0m\u001b[0;34m)\u001b[0m\u001b[0;34m:\u001b[0m\u001b[0;34m\u001b[0m\u001b[0;34m\u001b[0m\u001b[0m\n\u001b[1;32m    666\u001b[0m         \u001b[0;32mif\u001b[0m \u001b[0mlogs\u001b[0m\u001b[0;34m:\u001b[0m\u001b[0;34m\u001b[0m\u001b[0;34m\u001b[0m\u001b[0m\n\u001b[0;32m--> 667\u001b[0;31m             \u001b[0mself\u001b[0m\u001b[0;34m.\u001b[0m\u001b[0msagemaker_session\u001b[0m\u001b[0;34m.\u001b[0m\u001b[0mlogs_for_transform_job\u001b[0m\u001b[0;34m(\u001b[0m\u001b[0mself\u001b[0m\u001b[0;34m.\u001b[0m\u001b[0mjob_name\u001b[0m\u001b[0;34m,\u001b[0m \u001b[0mwait\u001b[0m\u001b[0;34m=\u001b[0m\u001b[0;32mTrue\u001b[0m\u001b[0;34m)\u001b[0m\u001b[0;34m\u001b[0m\u001b[0;34m\u001b[0m\u001b[0m\n\u001b[0m\u001b[1;32m    668\u001b[0m         \u001b[0;32melse\u001b[0m\u001b[0;34m:\u001b[0m\u001b[0;34m\u001b[0m\u001b[0;34m\u001b[0m\u001b[0m\n\u001b[1;32m    669\u001b[0m             \u001b[0mself\u001b[0m\u001b[0;34m.\u001b[0m\u001b[0msagemaker_session\u001b[0m\u001b[0;34m.\u001b[0m\u001b[0mwait_for_transform_job\u001b[0m\u001b[0;34m(\u001b[0m\u001b[0mself\u001b[0m\u001b[0;34m.\u001b[0m\u001b[0mjob_name\u001b[0m\u001b[0;34m)\u001b[0m\u001b[0;34m\u001b[0m\u001b[0;34m\u001b[0m\u001b[0m\n",
      "\u001b[0;32m~/anaconda3/envs/pytorch_p39/lib/python3.9/site-packages/sagemaker/session.py\u001b[0m in \u001b[0;36mlogs_for_transform_job\u001b[0;34m(self, job_name, wait, poll)\u001b[0m\n\u001b[1;32m   4924\u001b[0m \u001b[0;34m\u001b[0m\u001b[0m\n\u001b[1;32m   4925\u001b[0m         \u001b[0;32mif\u001b[0m \u001b[0mwait\u001b[0m\u001b[0;34m:\u001b[0m\u001b[0;34m\u001b[0m\u001b[0;34m\u001b[0m\u001b[0m\n\u001b[0;32m-> 4926\u001b[0;31m             \u001b[0mself\u001b[0m\u001b[0;34m.\u001b[0m\u001b[0m_check_job_status\u001b[0m\u001b[0;34m(\u001b[0m\u001b[0mjob_name\u001b[0m\u001b[0;34m,\u001b[0m \u001b[0mdescription\u001b[0m\u001b[0;34m,\u001b[0m \u001b[0;34m\"TransformJobStatus\"\u001b[0m\u001b[0;34m)\u001b[0m\u001b[0;34m\u001b[0m\u001b[0;34m\u001b[0m\u001b[0m\n\u001b[0m\u001b[1;32m   4927\u001b[0m             \u001b[0;32mif\u001b[0m \u001b[0mdot\u001b[0m\u001b[0;34m:\u001b[0m\u001b[0;34m\u001b[0m\u001b[0;34m\u001b[0m\u001b[0m\n\u001b[1;32m   4928\u001b[0m                 \u001b[0mprint\u001b[0m\u001b[0;34m(\u001b[0m\u001b[0;34m)\u001b[0m\u001b[0;34m\u001b[0m\u001b[0;34m\u001b[0m\u001b[0m\n",
      "\u001b[0;32m~/anaconda3/envs/pytorch_p39/lib/python3.9/site-packages/sagemaker/session.py\u001b[0m in \u001b[0;36m_check_job_status\u001b[0;34m(self, job, desc, status_key_name)\u001b[0m\n\u001b[1;32m   4261\u001b[0m                     \u001b[0mactual_status\u001b[0m\u001b[0;34m=\u001b[0m\u001b[0mstatus\u001b[0m\u001b[0;34m,\u001b[0m\u001b[0;34m\u001b[0m\u001b[0;34m\u001b[0m\u001b[0m\n\u001b[1;32m   4262\u001b[0m                 )\n\u001b[0;32m-> 4263\u001b[0;31m             raise exceptions.UnexpectedStatusException(\n\u001b[0m\u001b[1;32m   4264\u001b[0m                 \u001b[0mmessage\u001b[0m\u001b[0;34m=\u001b[0m\u001b[0mmessage\u001b[0m\u001b[0;34m,\u001b[0m\u001b[0;34m\u001b[0m\u001b[0;34m\u001b[0m\u001b[0m\n\u001b[1;32m   4265\u001b[0m                 \u001b[0mallowed_statuses\u001b[0m\u001b[0;34m=\u001b[0m\u001b[0;34m[\u001b[0m\u001b[0;34m\"Completed\"\u001b[0m\u001b[0;34m,\u001b[0m \u001b[0;34m\"Stopped\"\u001b[0m\u001b[0;34m]\u001b[0m\u001b[0;34m,\u001b[0m\u001b[0;34m\u001b[0m\u001b[0;34m\u001b[0m\u001b[0m\n",
      "\u001b[0;31mUnexpectedStatusException\u001b[0m: Error for Transform job xgboost-training-job-2023-05-04-09-57-28-324: Failed. Reason: ClientError: See job logs for more information"
     ]
    }
   ],
   "source": [
    "# batch transformation from the following \n",
    "batch_input_path = 's3://innovation-dev-athena-results/tables/bacth transformation/db716314-24db-4b3f-9401-65db2c6edb6d/'\n",
    "batch_output_path = 's3://innovation-dev-athena-results/tables/bacth transformation/batch output/'\n",
    "xgboost_transformer = xgboost_estimator.transformer(instance_count=1,\n",
    "                          instance_type='ml.m5.4xlarge',\n",
    "                          output_path=batch_output_path,\n",
    "                          accept='application/x-parquet',\n",
    "                          strategy='MultiRecord')\n",
    "\n",
    "# calls that object's transform method to create a transform job\n",
    "xgboost_transformer.transform(data=batch_input_path, content_type='application/x-parquet')\n",
    "transformer.wait()\n",
    "\n"
   ]
  },
  {
   "cell_type": "code",
   "execution_count": null,
   "id": "ee4dfced",
   "metadata": {},
   "outputs": [],
   "source": [
    "batch_output = 's3://innovation-dev-athena-results/tables/batch-output.out' \n",
    "batch_output = pd.read_csv(batch_output, header=None, encoding = \"ISO-8859-1\") # header = none"
   ]
  }
 ],
 "metadata": {
  "kernelspec": {
   "display_name": "conda_pytorch_p39",
   "language": "python",
   "name": "conda_pytorch_p39"
  },
  "language_info": {
   "codemirror_mode": {
    "name": "ipython",
    "version": 3
   },
   "file_extension": ".py",
   "mimetype": "text/x-python",
   "name": "python",
   "nbconvert_exporter": "python",
   "pygments_lexer": "ipython3",
   "version": "3.9.15"
  }
 },
 "nbformat": 4,
 "nbformat_minor": 5
}
