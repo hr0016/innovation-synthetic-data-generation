{
 "cells": [
  {
   "cell_type": "code",
   "execution_count": 1,
   "id": "beea7057-917d-41a6-8e9c-e7fee4289986",
   "metadata": {
    "tags": []
   },
   "outputs": [
    {
     "name": "stderr",
     "output_type": "stream",
     "text": [
      "/home/ec2-user/anaconda3/envs/python3/lib/python3.10/site-packages/pandas/core/computation/expressions.py:21: UserWarning: Pandas requires version '2.8.0' or newer of 'numexpr' (version '2.7.3' currently installed).\n",
      "  from pandas.core.computation.check import NUMEXPR_INSTALLED\n"
     ]
    },
    {
     "name": "stdout",
     "output_type": "stream",
     "text": [
      "sagemaker.config INFO - Not applying SDK defaults from location: /etc/xdg/sagemaker/config.yaml\n",
      "sagemaker.config INFO - Not applying SDK defaults from location: /home/ec2-user/.config/sagemaker/config.yaml\n"
     ]
    }
   ],
   "source": [
    "import csv\n",
    "import boto3, json \n",
    "from time import gmtime, strftime\n",
    "import sagemaker"
   ]
  },
  {
   "cell_type": "code",
   "execution_count": 27,
   "id": "b75b015a",
   "metadata": {},
   "outputs": [],
   "source": [
    "account = boto3.client('sts').get_caller_identity()[\"Account\"]\n",
    "role = sagemaker.get_execution_role()\n",
    "region = boto3.Session().region_name\n",
    "bucket = 'synthetic-eac-production-models'\n",
    "sess = sagemaker.Session()\n",
    "xgboost_container = sagemaker.image_uris.retrieve(\"xgboost\", region, \"1.7-1\")\n",
    "#xgboost_container = sagemaker.amazon.amazon_estimator.get_image_uri(region, 'xgboost')\n",
    "model_url='https://synthetic-eac-production-models.s3.eu-west-2.amazonaws.com/sagemaker-xgb/xgboost-training-job-2023-12-11-12-28-11-261/output/model.tar.gz'\n",
    "endpoint_name = \"xgboost-endpoint-\" + strftime(\"%Y-%m-%d-%H-%M-%S\", gmtime())\n"
   ]
  },
  {
   "cell_type": "code",
   "execution_count": 38,
   "id": "80396759",
   "metadata": {},
   "outputs": [
    {
     "name": "stdout",
     "output_type": "stream",
     "text": [
      "----!"
     ]
    }
   ],
   "source": [
    "trainedmodel = sagemaker.model.Model(\n",
    "    model_data=model_url,\n",
    "    image_uri=xgboost_container,\n",
    "    role=role)   \n",
    "\n",
    "trainedmodel.deploy(initial_instance_count=1, instance_type='ml.m5.xlarge', endpoint_name=endpoint_name)"
   ]
  },
  {
   "cell_type": "code",
   "execution_count": 41,
   "id": "93c4fd1c",
   "metadata": {},
   "outputs": [],
   "source": [
    "# create a user csv file for inference\n",
    "with open(\"test_point.csv\", 'w', newline='') as f:\n",
    "    writer = csv.writer(f)\n",
    "    writer.writerow(['sum_dpc', 'calculated_aa', 'previous_eac'])\n",
    "    writer.writerow(['0.6163173039392', '939.4511500801843', '1339.2'])\n",
    "    writer.writerow(['0.0987486148227', '2535.731771524946', '3221.7'])"
   ]
  },
  {
   "cell_type": "code",
   "execution_count": 48,
   "id": "87f2e4cc",
   "metadata": {},
   "outputs": [
    {
     "name": "stdout",
     "output_type": "stream",
     "text": [
      "0.6163173039392,939.4511500801843,1339.2\n",
      "0.0987486148227,2535.731771524946,3221.7\n"
     ]
    }
   ],
   "source": [
    "with open(\"test_point.csv\", \"r\") as f:\n",
    "    next(f)\n",
    "    payload = f.read().strip()\n",
    "print(payload)"
   ]
  },
  {
   "cell_type": "code",
   "execution_count": 42,
   "id": "faf17469",
   "metadata": {},
   "outputs": [],
   "source": [
    "runtime_client = boto3.client(\"runtime.sagemaker\")"
   ]
  },
  {
   "cell_type": "code",
   "execution_count": 51,
   "id": "7d7b193f",
   "metadata": {},
   "outputs": [
    {
     "name": "stdout",
     "output_type": "stream",
     "text": [
      "XGBoost predicted EAC:\n",
      "1008.8930053710938\n",
      "3087.39208984375\n",
      "\n"
     ]
    }
   ],
   "source": [
    "xgboost_endpoint_name='sagemaker-xgboost-2024-02-07-11-19-34-724'  \n",
    "\n",
    "response = runtime_client.invoke_endpoint(EndpointName=xgboost_endpoint_name, ContentType=\"text/csv\", Body=payload)\n",
    "results = response[\"Body\"].read().decode(\"ascii\")\n",
    "print(\"XGBoost predicted EAC:\\n{}\".format(results))"
   ]
  }
 ],
 "metadata": {
  "kernelspec": {
   "display_name": "conda_python3",
   "language": "python",
   "name": "conda_python3"
  },
  "language_info": {
   "codemirror_mode": {
    "name": "ipython",
    "version": 3
   },
   "file_extension": ".py",
   "mimetype": "text/x-python",
   "name": "python",
   "nbconvert_exporter": "python",
   "pygments_lexer": "ipython3",
   "version": "3.10.13"
  }
 },
 "nbformat": 4,
 "nbformat_minor": 5
}
